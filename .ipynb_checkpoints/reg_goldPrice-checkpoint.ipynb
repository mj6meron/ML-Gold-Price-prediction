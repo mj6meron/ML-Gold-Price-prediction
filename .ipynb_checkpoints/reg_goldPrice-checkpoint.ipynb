{
 "cells": [
  {
   "cell_type": "code",
   "execution_count": null,
   "id": "2776721a",
   "metadata": {},
   "outputs": [],
   "source": [
    "import seaborn as sns\n",
    "import matplotlib.pyplot as plt\n",
    "%matplotlib inline\n",
    "import numpy as np\n",
    "import pandas as pd\n",
    "import seaborn as sns\n",
    "df = pd.read_csv(\"Datasets/Gold_price.csv\")"
   ]
  },
  {
   "cell_type": "code",
   "execution_count": null,
   "id": "1fd05b9d",
   "metadata": {},
   "outputs": [],
   "source": [
    "df.head()"
   ]
  },
  {
   "cell_type": "code",
   "execution_count": null,
   "id": "bbc34a4f",
   "metadata": {},
   "outputs": [],
   "source": [
    "#sns.stripplot(x=\"Date\", y=\"Close/Last\", data=df,jitter=True,palette='Set1')"
   ]
  },
  {
   "cell_type": "code",
   "execution_count": null,
   "id": "66824d5c",
   "metadata": {},
   "outputs": [],
   "source": [
    "#sns.barplot(x=\"day\", y=\"area\",data=df, estimator=np.mean)"
   ]
  },
  {
   "cell_type": "markdown",
   "id": "9907af60",
   "metadata": {},
   "source": [
    "# Data visiualization"
   ]
  },
  {
   "cell_type": "code",
   "execution_count": null,
   "id": "ebbb545e",
   "metadata": {},
   "outputs": [],
   "source": [
    "sns.jointplot(x='Volume',y='Close/Last',data=tips,kind='scatter')"
   ]
  },
  {
   "cell_type": "markdown",
   "id": "e60434d9",
   "metadata": {},
   "source": [
    "# Encoding Date and Month features using OrdinalEncoder"
   ]
  },
  {
   "cell_type": "code",
   "execution_count": 65,
   "id": "0117b5a0",
   "metadata": {},
   "outputs": [],
   "source": [
    "from sklearn.preprocessing import OrdinalEncoder\n",
    "enc = OrdinalEncoder()\n",
    "df[\"Date\"] = enc.fit_transform(df[[\"Date\"]])"
   ]
  },
  {
   "cell_type": "code",
   "execution_count": null,
   "id": "abb6f141",
   "metadata": {},
   "outputs": [],
   "source": [
    "df.head()"
   ]
  },
  {
   "cell_type": "markdown",
   "id": "d32e6b55",
   "metadata": {},
   "source": [
    "# StardardScaler"
   ]
  },
  {
   "cell_type": "code",
   "execution_count": 67,
   "id": "7433830f",
   "metadata": {},
   "outputs": [],
   "source": [
    "from sklearn.preprocessing import StandardScaler\n",
    "scaler = StandardScaler()"
   ]
  },
  {
   "cell_type": "code",
   "execution_count": 68,
   "id": "47b717be",
   "metadata": {},
   "outputs": [
    {
     "data": {
      "text/html": [
       "<div>\n",
       "<style scoped>\n",
       "    .dataframe tbody tr th:only-of-type {\n",
       "        vertical-align: middle;\n",
       "    }\n",
       "\n",
       "    .dataframe tbody tr th {\n",
       "        vertical-align: top;\n",
       "    }\n",
       "\n",
       "    .dataframe thead th {\n",
       "        text-align: right;\n",
       "    }\n",
       "</style>\n",
       "<table border=\"1\" class=\"dataframe\">\n",
       "  <thead>\n",
       "    <tr style=\"text-align: right;\">\n",
       "      <th></th>\n",
       "      <th>Date</th>\n",
       "      <th>Volume</th>\n",
       "      <th>Open</th>\n",
       "      <th>High</th>\n",
       "      <th>Low</th>\n",
       "    </tr>\n",
       "  </thead>\n",
       "  <tbody>\n",
       "    <tr>\n",
       "      <th>0</th>\n",
       "      <td>1.131305</td>\n",
       "      <td>0.045622</td>\n",
       "      <td>0.888201</td>\n",
       "      <td>0.860141</td>\n",
       "      <td>0.832334</td>\n",
       "    </tr>\n",
       "    <tr>\n",
       "      <th>1</th>\n",
       "      <td>1.120397</td>\n",
       "      <td>-0.015052</td>\n",
       "      <td>0.894432</td>\n",
       "      <td>0.875232</td>\n",
       "      <td>0.902358</td>\n",
       "    </tr>\n",
       "    <tr>\n",
       "      <th>2</th>\n",
       "      <td>1.110853</td>\n",
       "      <td>0.014198</td>\n",
       "      <td>0.851205</td>\n",
       "      <td>0.893031</td>\n",
       "      <td>0.883869</td>\n",
       "    </tr>\n",
       "    <tr>\n",
       "      <th>3</th>\n",
       "      <td>1.101308</td>\n",
       "      <td>-0.034454</td>\n",
       "      <td>0.838742</td>\n",
       "      <td>0.844276</td>\n",
       "      <td>0.834301</td>\n",
       "    </tr>\n",
       "    <tr>\n",
       "      <th>4</th>\n",
       "      <td>1.091764</td>\n",
       "      <td>-0.149838</td>\n",
       "      <td>0.871455</td>\n",
       "      <td>0.877941</td>\n",
       "      <td>0.861052</td>\n",
       "    </tr>\n",
       "  </tbody>\n",
       "</table>\n",
       "</div>"
      ],
      "text/plain": [
       "       Date    Volume      Open      High       Low\n",
       "0  1.131305  0.045622  0.888201  0.860141  0.832334\n",
       "1  1.120397 -0.015052  0.894432  0.875232  0.902358\n",
       "2  1.110853  0.014198  0.851205  0.893031  0.883869\n",
       "3  1.101308 -0.034454  0.838742  0.844276  0.834301\n",
       "4  1.091764 -0.149838  0.871455  0.877941  0.861052"
      ]
     },
     "execution_count": 68,
     "metadata": {},
     "output_type": "execute_result"
    }
   ],
   "source": [
    "df = df[np.isfinite(df).all(1)]\n",
    "scaled_features = scaler.fit_transform(df.drop([\"Close/Last\"], axis=\"columns\"))\n",
    "df_featured = pd.DataFrame(scaled_features, columns=df.drop([\"Close/Last\"], axis=1).columns)\n",
    "df_featured.head()"
   ]
  },
  {
   "cell_type": "markdown",
   "id": "18266339",
   "metadata": {},
   "source": [
    "# Splitting the data"
   ]
  },
  {
   "cell_type": "code",
   "execution_count": 69,
   "id": "cfad8389",
   "metadata": {},
   "outputs": [],
   "source": [
    "from sklearn.model_selection import train_test_split\n",
    "x=df_featured\n",
    "y=df[\"Close/Last\"]\n",
    "x_train, x_test, y_train, y_test = train_test_split(x, y, test_size=0.2,random_state=0)"
   ]
  },
  {
   "cell_type": "markdown",
   "id": "f5fc56fb",
   "metadata": {},
   "source": [
    "# Linear Regression"
   ]
  },
  {
   "cell_type": "code",
   "execution_count": 70,
   "id": "478f25f9",
   "metadata": {},
   "outputs": [],
   "source": [
    "from sklearn.linear_model import LinearRegression\n",
    "lr = LinearRegression()\n",
    "lr.fit(x_train, y_train)\n",
    "y_pred = lr.predict(x_test)"
   ]
  },
  {
   "cell_type": "code",
   "execution_count": null,
   "id": "891685d4",
   "metadata": {},
   "outputs": [],
   "source": [
    "from sklearn.metrics import mean_absolute_error, r2_score\n",
    "r2_score(y_test, y_pred)"
   ]
  },
  {
   "cell_type": "markdown",
   "id": "b434aa2e",
   "metadata": {},
   "source": [
    "# RandomForestRegressor"
   ]
  },
  {
   "cell_type": "code",
   "execution_count": 72,
   "id": "d551f3d7",
   "metadata": {},
   "outputs": [
    {
     "data": {
      "text/plain": [
       "0.9990615408152974"
      ]
     },
     "execution_count": 72,
     "metadata": {},
     "output_type": "execute_result"
    }
   ],
   "source": [
    "from sklearn.ensemble import RandomForestRegressor \n",
    "rf = RandomForestRegressor(random_state=42) \n",
    "rf.fit(x_train, y_train)\n",
    "y_pred2 = rf.predict(x_test)\n",
    "r2_score( y_test, y_pred2)"
   ]
  },
  {
   "cell_type": "code",
   "execution_count": 73,
   "id": "6cd7fadc",
   "metadata": {},
   "outputs": [
    {
     "data": {
      "text/plain": [
       "array([1898.448, 1338.434, 1317.475, 1091.104, 1728.952, 1401.034,\n",
       "       1180.89 , 1133.991, 1297.482, 1347.327, 1295.833, 1359.8  ,\n",
       "       1274.264, 1321.487, 1588.009, 1272.969, 1414.138, 1802.837,\n",
       "       1230.833, 1127.999, 1466.063, 1363.221, 1722.607, 1253.893,\n",
       "       1495.52 , 1811.737, 1815.29 , 1318.852, 1170.937, 1800.427,\n",
       "       1279.114, 1293.544, 1194.592, 1770.411, 1786.92 , 1334.345,\n",
       "       1425.793, 1307.201, 1270.657, 1367.962, 1285.104, 1323.508,\n",
       "       1357.079, 1291.722, 1785.501, 1294.856, 1966.34 , 1989.664,\n",
       "       1256.191, 1231.949, 1972.348, 1218.128, 1177.212, 1604.735,\n",
       "       1725.807, 1299.741, 1553.738, 1295.502, 1746.968, 1592.905,\n",
       "       1287.63 , 1310.034, 1246.467, 1168.225, 1724.225, 1327.982,\n",
       "       1251.12 , 1221.454, 1181.115, 1190.405, 1339.361, 1114.949,\n",
       "       1812.759, 1204.58 , 1734.687, 1944.828, 1320.364, 1229.751,\n",
       "       1210.399, 1751.502, 1261.206, 1470.129, 1117.398, 1334.254,\n",
       "       1330.813, 1289.623, 1285.051, 1226.582, 1067.591, 1257.574,\n",
       "       1405.859, 1892.267, 1440.371, 1693.718, 1722.078, 1847.668,\n",
       "       1955.386, 1243.2  , 1256.272, 1204.393, 1908.015, 1244.467,\n",
       "       1413.103, 1164.097, 1117.313, 1235.494, 1123.813, 1385.366,\n",
       "       1232.227, 1312.978, 1311.386, 1285.674, 1464.678, 1338.46 ,\n",
       "       1230.689, 1851.451, 1065.507, 1282.676, 1780.404, 1551.571,\n",
       "       1826.71 , 1223.563, 1217.624, 1292.475, 1226.987, 1782.884,\n",
       "       1119.233, 1197.943, 1255.359, 1276.594, 1251.5  , 1573.954,\n",
       "       1244.665, 1224.708, 1313.758, 1584.726, 1263.554, 1297.945,\n",
       "       1264.428, 1280.86 , 1275.163, 1798.871, 1096.089, 1225.607,\n",
       "       1385.995, 1672.336, 1202.076, 1725.651, 1235.622, 1321.944,\n",
       "       1089.935, 1257.125, 1674.331, 1708.784, 1634.029, 1661.997,\n",
       "       1897.183, 1291.853, 1275.642, 1316.361, 1276.79 , 1201.494,\n",
       "       1867.958, 1579.157, 1166.74 , 1315.143, 1661.47 , 1211.467,\n",
       "       1211.451, 1327.647, 1319.553, 1113.839, 1270.621, 1323.458,\n",
       "       1200.773, 1494.065, 1796.015, 1285.121, 1808.87 , 1843.733,\n",
       "       1679.254, 1318.453, 1817.758, 1119.576, 1576.442, 1766.582,\n",
       "       1136.977, 1934.076, 1952.335, 1515.412, 1645.197, 1134.227,\n",
       "       1206.878, 1716.558, 1359.939, 1233.398, 1194.101, 1350.001,\n",
       "       1953.472, 1263.861, 1674.6  , 1743.048, 1293.732, 1311.869,\n",
       "       1348.842, 1615.654, 1330.677, 1799.711, 1823.654, 1675.805,\n",
       "       1263.842, 1245.079, 1876.116, 1319.237, 1739.797, 1305.203,\n",
       "       1302.894, 1285.243, 1946.467, 1171.052, 1322.406, 1801.364,\n",
       "       1713.219, 1831.301, 1470.446, 1072.686, 1075.791, 1195.142,\n",
       "       1676.575, 1840.945, 1302.852, 1684.189, 1795.798, 1866.706,\n",
       "       1300.825, 1488.455, 1289.209, 1670.986, 1254.412, 1595.537,\n",
       "       1601.257, 1284.515, 1516.642, 1226.745, 1258.655, 1336.311,\n",
       "       1322.783, 1307.382, 2053.657, 1279.656, 1250.433, 1294.689,\n",
       "       1546.807, 1184.269, 1231.789, 1317.41 , 1817.013, 1251.101,\n",
       "       1527.198, 1691.825, 1905.948, 1205.38 , 1811.62 , 1315.961,\n",
       "       1785.841, 1317.715, 1232.932, 1226.046, 1335.611, 1699.462,\n",
       "       1607.296, 1809.932, 1416.989, 1298.589, 1766.756, 1262.426,\n",
       "       1236.847, 1372.863, 1163.052, 1730.   , 1305.833, 1989.438,\n",
       "       1299.435, 1090.013, 1718.534, 1179.6  , 1388.808, 1638.792,\n",
       "       1068.13 , 1812.604, 1761.202, 1576.617, 1300.991, 1211.652,\n",
       "       1608.332, 1577.508, 1293.16 , 1245.134, 1231.904, 1314.807,\n",
       "       1301.257, 1238.033, 1320.529, 1235.981, 1201.895, 1327.932,\n",
       "       1201.034, 1896.186, 1463.404, 1796.094, 1675.099, 1309.267,\n",
       "       1248.551, 1243.599, 1241.388, 1883.72 , 1836.443, 1852.219,\n",
       "       1209.636, 1251.673, 1285.115, 1844.258, 1318.789, 1478.277,\n",
       "       1513.618, 1469.188, 1087.055, 1272.13 , 1297.794, 1810.147,\n",
       "       1179.252, 1778.968, 1277.569, 1345.402, 1806.458, 1733.655,\n",
       "       1515.608, 1354.874, 1883.415, 1657.096, 1741.033, 1674.791,\n",
       "       1287.024, 1360.278, 1316.534, 1203.826, 1774.571, 1106.225,\n",
       "       1361.481, 1331.311, 1278.544, 1643.975, 1216.839, 1601.533,\n",
       "       1577.909, 1498.66 , 1247.089, 1721.519, 1265.979, 1951.659,\n",
       "       1209.862, 1226.182, 1077.429, 1245.009, 1137.162, 1462.249,\n",
       "       1255.098, 1433.198, 1367.506, 1485.509, 1720.693, 1332.391,\n",
       "       1648.733, 1277.036, 1465.577, 1773.095, 1744.403, 1850.994,\n",
       "       1744.256, 1197.103, 1175.036, 1903.802, 1733.621, 1285.291,\n",
       "       1545.397, 1242.425, 1468.262, 1223.503, 1710.375, 1803.922,\n",
       "       1225.708, 1230.802, 1187.276, 1105.168, 1948.574, 1192.092,\n",
       "       1386.626, 1192.544, 1735.623, 1061.433, 1307.602, 1494.929,\n",
       "       1272.082, 1116.049, 1345.344, 1263.341, 1299.557, 1908.993,\n",
       "       1188.624, 1203.411, 1336.27 , 2040.631, 1199.957, 1898.202,\n",
       "       1156.685, 1531.451, 1250.646, 1257.495, 1371.118, 1743.815,\n",
       "       1269.512, 1575.053, 1289.843, 1314.838, 1679.569, 1223.714,\n",
       "       1226.817, 1268.901, 1274.612, 1772.417, 1298.764, 1716.046,\n",
       "       1840.277, 1726.11 , 1163.262, 1326.916, 1879.246, 1973.699,\n",
       "       1141.344, 1379.032, 1942.705, 1859.31 , 1267.281, 1667.988,\n",
       "       1291.4  , 1223.027, 1665.623, 1780.696, 1889.186, 1737.511,\n",
       "       1250.258, 1300.256, 1193.015, 1385.614, 1131.271, 1562.151,\n",
       "       1189.81 , 1793.597, 1344.612, 1212.035, 1160.961, 1188.358,\n",
       "       1796.291, 1269.814, 1117.143, 1300.461, 1615.785, 1294.316,\n",
       "       1295.829, 1318.125, 1717.447, 1275.094, 1218.879, 1237.307,\n",
       "       1350.922, 1241.605, 1239.526, 1809.427, 1223.653, 1569.985,\n",
       "       1398.133, 1198.061, 1288.75 , 1432.65 , 1299.399, 1817.268,\n",
       "       1846.   , 1323.18 , 1222.424, 1818.111, 1233.578, 1532.583,\n",
       "       1761.296, 1284.287, 1314.403, 1511.74 , 1291.157, 1302.923,\n",
       "       1213.643, 1214.734, 1331.867, 1297.488])"
      ]
     },
     "execution_count": 73,
     "metadata": {},
     "output_type": "execute_result"
    }
   ],
   "source": []
  },
  {
   "cell_type": "code",
   "execution_count": null,
   "id": "04a43ce6",
   "metadata": {},
   "outputs": [],
   "source": []
  }
 ],
 "metadata": {
  "kernelspec": {
   "display_name": "Python 3 (ipykernel)",
   "language": "python",
   "name": "python3"
  },
  "language_info": {
   "codemirror_mode": {
    "name": "ipython",
    "version": 3
   },
   "file_extension": ".py",
   "mimetype": "text/x-python",
   "name": "python",
   "nbconvert_exporter": "python",
   "pygments_lexer": "ipython3",
   "version": "3.9.12"
  }
 },
 "nbformat": 4,
 "nbformat_minor": 5
}
