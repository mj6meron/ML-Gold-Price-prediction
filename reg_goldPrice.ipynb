{
 "cells": [
  {
   "cell_type": "markdown",
   "id": "7a885253",
   "metadata": {},
   "source": [
    "<h1>A script to predict the closing price of Gold ETF</h1>\n",
    "<h4>Author: Meron Habtemichael</h4>\n",
    "\n",
    "<ul>\n",
    "<i><h4>DataSet: <a href=\"https://www.kaggle.com/datasets/saikumartamminana/gold-price-prediction\" > Link to Kaggle </a></h4></i>   \n",
    "<i><h4>Report : <a href=\"https://hkrse-my.sharepoint.com/:w:/g/personal/meron_habtemichael0021_stud_hkr_se/EUDxFOiYYw5GhA462_0r1Y4BjnDJlkCjiaG92yrAK0frEQ?e=szDnz0\" > Link to Ms Word Report </a></h4></i>\n",
    "\n",
    "<ul>\n"
   ]
  },
  {
   "cell_type": "markdown",
   "id": "15cf8074",
   "metadata": {},
   "source": [
    "---"
   ]
  },
  {
   "cell_type": "code",
   "execution_count": 272,
   "id": "ddc7148a",
   "metadata": {},
   "outputs": [],
   "source": [
    "import matplotlib.pyplot as plt\n",
    "%matplotlib inline\n",
    "import numpy as np\n",
    "import pandas as pd\n",
    "import seaborn as sns\n",
    "sns.set()\n",
    "import datetime\n",
    "import warnings\n",
    "warnings.filterwarnings('ignore')\n",
    "df = pd.read_csv(\"Datasets/Gold_price.csv\")"
   ]
  },
  {
   "cell_type": "code",
   "execution_count": 273,
   "id": "1fd05b9d",
   "metadata": {},
   "outputs": [
    {
     "data": {
      "text/html": [
       "<div>\n",
       "<style scoped>\n",
       "    .dataframe tbody tr th:only-of-type {\n",
       "        vertical-align: middle;\n",
       "    }\n",
       "\n",
       "    .dataframe tbody tr th {\n",
       "        vertical-align: top;\n",
       "    }\n",
       "\n",
       "    .dataframe thead th {\n",
       "        text-align: right;\n",
       "    }\n",
       "</style>\n",
       "<table border=\"1\" class=\"dataframe\">\n",
       "  <thead>\n",
       "    <tr style=\"text-align: right;\">\n",
       "      <th></th>\n",
       "      <th>Date</th>\n",
       "      <th>Close/Last</th>\n",
       "      <th>Volume</th>\n",
       "      <th>Open</th>\n",
       "      <th>High</th>\n",
       "      <th>Low</th>\n",
       "    </tr>\n",
       "  </thead>\n",
       "  <tbody>\n",
       "    <tr>\n",
       "      <th>0</th>\n",
       "      <td>10/28/2022</td>\n",
       "      <td>1648.3</td>\n",
       "      <td>186519.0</td>\n",
       "      <td>1667.2</td>\n",
       "      <td>1670.9</td>\n",
       "      <td>1640.7</td>\n",
       "    </tr>\n",
       "    <tr>\n",
       "      <th>1</th>\n",
       "      <td>10/27/2022</td>\n",
       "      <td>1668.8</td>\n",
       "      <td>180599.0</td>\n",
       "      <td>1668.8</td>\n",
       "      <td>1674.8</td>\n",
       "      <td>1658.5</td>\n",
       "    </tr>\n",
       "    <tr>\n",
       "      <th>2</th>\n",
       "      <td>10/26/2022</td>\n",
       "      <td>1669.2</td>\n",
       "      <td>183453.0</td>\n",
       "      <td>1657.7</td>\n",
       "      <td>1679.4</td>\n",
       "      <td>1653.8</td>\n",
       "    </tr>\n",
       "    <tr>\n",
       "      <th>3</th>\n",
       "      <td>10/25/2022</td>\n",
       "      <td>1658.0</td>\n",
       "      <td>178706.0</td>\n",
       "      <td>1654.5</td>\n",
       "      <td>1666.8</td>\n",
       "      <td>1641.2</td>\n",
       "    </tr>\n",
       "    <tr>\n",
       "      <th>4</th>\n",
       "      <td>10/24/2022</td>\n",
       "      <td>1654.1</td>\n",
       "      <td>167448.0</td>\n",
       "      <td>1662.9</td>\n",
       "      <td>1675.5</td>\n",
       "      <td>1648.0</td>\n",
       "    </tr>\n",
       "  </tbody>\n",
       "</table>\n",
       "</div>"
      ],
      "text/plain": [
       "         Date  Close/Last    Volume    Open    High     Low\n",
       "0  10/28/2022      1648.3  186519.0  1667.2  1670.9  1640.7\n",
       "1  10/27/2022      1668.8  180599.0  1668.8  1674.8  1658.5\n",
       "2  10/26/2022      1669.2  183453.0  1657.7  1679.4  1653.8\n",
       "3  10/25/2022      1658.0  178706.0  1654.5  1666.8  1641.2\n",
       "4  10/24/2022      1654.1  167448.0  1662.9  1675.5  1648.0"
      ]
     },
     "execution_count": 273,
     "metadata": {},
     "output_type": "execute_result"
    }
   ],
   "source": [
    "df.head()"
   ]
  },
  {
   "cell_type": "markdown",
   "id": "c8bd86e6",
   "metadata": {},
   "source": [
    "**Note that**: <br> *we can immediately observe that we need to encode the date, and scale/stardardize the values of our features. <br> but first lets visualize our data.*\n"
   ]
  },
  {
   "cell_type": "code",
   "execution_count": 274,
   "id": "bbc34a4f",
   "metadata": {},
   "outputs": [],
   "source": [
    "#sns.stripplot(x=\"Date\", y=\"Close/Last\", data=df,jitter=True,palette='Set1')"
   ]
  },
  {
   "cell_type": "code",
   "execution_count": 275,
   "id": "66824d5c",
   "metadata": {},
   "outputs": [],
   "source": [
    "#sns.barplot(x=\"day\", y=\"area\",data=df, estimator=np.mean)"
   ]
  },
  {
   "cell_type": "markdown",
   "id": "c6a6d738",
   "metadata": {},
   "source": [
    "---"
   ]
  },
  {
   "cell_type": "markdown",
   "id": "9907af60",
   "metadata": {},
   "source": [
    "# Data visiualization/analysis"
   ]
  },
  {
   "cell_type": "code",
   "execution_count": 276,
   "id": "1a8bd5c3",
   "metadata": {},
   "outputs": [
    {
     "data": {
      "text/plain": [
       "(2547, 6)"
      ]
     },
     "execution_count": 276,
     "metadata": {},
     "output_type": "execute_result"
    }
   ],
   "source": [
    "df.shape    # Lets see and determine the shape of the dataset"
   ]
  },
  {
   "cell_type": "code",
   "execution_count": 277,
   "id": "93713fbf",
   "metadata": {},
   "outputs": [
    {
     "data": {
      "text/plain": [
       "Date           0\n",
       "Close/Last     0\n",
       "Volume        39\n",
       "Open           0\n",
       "High           0\n",
       "Low            0\n",
       "dtype: int64"
      ]
     },
     "execution_count": 277,
     "metadata": {},
     "output_type": "execute_result"
    }
   ],
   "source": [
    "df.isnull().sum()    # Check if we have missing values"
   ]
  },
  {
   "cell_type": "code",
   "execution_count": 278,
   "id": "3dc2ae35",
   "metadata": {},
   "outputs": [],
   "source": [
    "df.dropna(inplace = True, axis = 0)     # Drop the null entries from the dataset ( volume has missing values)"
   ]
  },
  {
   "cell_type": "code",
   "execution_count": 279,
   "id": "d3e84832",
   "metadata": {},
   "outputs": [
    {
     "data": {
      "text/plain": [
       "Date           object\n",
       "Close/Last    float64\n",
       "Volume        float64\n",
       "Open          float64\n",
       "High          float64\n",
       "Low           float64\n",
       "dtype: object"
      ]
     },
     "execution_count": 279,
     "metadata": {},
     "output_type": "execute_result"
    }
   ],
   "source": [
    "df.dtypes     # Lets see the datatype of each feature"
   ]
  },
  {
   "cell_type": "markdown",
   "id": "31b106e9",
   "metadata": {},
   "source": [
    "We can easly point out that the date feature is not in appropriate format. <br>\n",
    "We can use Pandas built in feature to deal with time-series data but first, <br>\n",
    "lets ensure the 'Date' column is of type 'datetime64'."
   ]
  },
  {
   "cell_type": "code",
   "execution_count": 280,
   "id": "2403ac1f",
   "metadata": {},
   "outputs": [
    {
     "data": {
      "text/html": [
       "<div>\n",
       "<style scoped>\n",
       "    .dataframe tbody tr th:only-of-type {\n",
       "        vertical-align: middle;\n",
       "    }\n",
       "\n",
       "    .dataframe tbody tr th {\n",
       "        vertical-align: top;\n",
       "    }\n",
       "\n",
       "    .dataframe thead th {\n",
       "        text-align: right;\n",
       "    }\n",
       "</style>\n",
       "<table border=\"1\" class=\"dataframe\">\n",
       "  <thead>\n",
       "    <tr style=\"text-align: right;\">\n",
       "      <th></th>\n",
       "      <th>Date</th>\n",
       "      <th>Close/Last</th>\n",
       "      <th>Volume</th>\n",
       "      <th>Open</th>\n",
       "      <th>High</th>\n",
       "      <th>Low</th>\n",
       "    </tr>\n",
       "  </thead>\n",
       "  <tbody>\n",
       "    <tr>\n",
       "      <th>0</th>\n",
       "      <td>2022-10-28</td>\n",
       "      <td>1648.3</td>\n",
       "      <td>186519.0</td>\n",
       "      <td>1667.2</td>\n",
       "      <td>1670.9</td>\n",
       "      <td>1640.7</td>\n",
       "    </tr>\n",
       "    <tr>\n",
       "      <th>1</th>\n",
       "      <td>2022-10-27</td>\n",
       "      <td>1668.8</td>\n",
       "      <td>180599.0</td>\n",
       "      <td>1668.8</td>\n",
       "      <td>1674.8</td>\n",
       "      <td>1658.5</td>\n",
       "    </tr>\n",
       "    <tr>\n",
       "      <th>2</th>\n",
       "      <td>2022-10-26</td>\n",
       "      <td>1669.2</td>\n",
       "      <td>183453.0</td>\n",
       "      <td>1657.7</td>\n",
       "      <td>1679.4</td>\n",
       "      <td>1653.8</td>\n",
       "    </tr>\n",
       "    <tr>\n",
       "      <th>3</th>\n",
       "      <td>2022-10-25</td>\n",
       "      <td>1658.0</td>\n",
       "      <td>178706.0</td>\n",
       "      <td>1654.5</td>\n",
       "      <td>1666.8</td>\n",
       "      <td>1641.2</td>\n",
       "    </tr>\n",
       "    <tr>\n",
       "      <th>4</th>\n",
       "      <td>2022-10-24</td>\n",
       "      <td>1654.1</td>\n",
       "      <td>167448.0</td>\n",
       "      <td>1662.9</td>\n",
       "      <td>1675.5</td>\n",
       "      <td>1648.0</td>\n",
       "    </tr>\n",
       "  </tbody>\n",
       "</table>\n",
       "</div>"
      ],
      "text/plain": [
       "        Date  Close/Last    Volume    Open    High     Low\n",
       "0 2022-10-28      1648.3  186519.0  1667.2  1670.9  1640.7\n",
       "1 2022-10-27      1668.8  180599.0  1668.8  1674.8  1658.5\n",
       "2 2022-10-26      1669.2  183453.0  1657.7  1679.4  1653.8\n",
       "3 2022-10-25      1658.0  178706.0  1654.5  1666.8  1641.2\n",
       "4 2022-10-24      1654.1  167448.0  1662.9  1675.5  1648.0"
      ]
     },
     "execution_count": 280,
     "metadata": {},
     "output_type": "execute_result"
    }
   ],
   "source": [
    "df['Date'] = pd.to_datetime(df['Date'])\n",
    "df.head()"
   ]
  },
  {
   "cell_type": "markdown",
   "id": "44708e43",
   "metadata": {},
   "source": [
    "<h4>Lets see the time interval of the whole dataset ie min and max time</h4>"
   ]
  },
  {
   "cell_type": "code",
   "execution_count": 281,
   "id": "1653ed72",
   "metadata": {},
   "outputs": [
    {
     "name": "stdout",
     "output_type": "stream",
     "text": [
      "Latest time:  2022-10-28 00:00:00\n",
      "Earliest time:  2012-10-31 00:00:00\n"
     ]
    }
   ],
   "source": [
    "print('Latest time: ', df['Date'].max())\n",
    "print('Earliest time: ', df['Date'].min())"
   ]
  },
  {
   "cell_type": "markdown",
   "id": "5048d8cc",
   "metadata": {},
   "source": [
    "***Lets quickly see how the ETF performed in the last two months***"
   ]
  },
  {
   "cell_type": "code",
   "execution_count": 282,
   "id": "795478f7",
   "metadata": {},
   "outputs": [
    {
     "data": {
      "text/html": [
       "<div>\n",
       "<style scoped>\n",
       "    .dataframe tbody tr th:only-of-type {\n",
       "        vertical-align: middle;\n",
       "    }\n",
       "\n",
       "    .dataframe tbody tr th {\n",
       "        vertical-align: top;\n",
       "    }\n",
       "\n",
       "    .dataframe thead th {\n",
       "        text-align: right;\n",
       "    }\n",
       "</style>\n",
       "<table border=\"1\" class=\"dataframe\">\n",
       "  <thead>\n",
       "    <tr style=\"text-align: right;\">\n",
       "      <th></th>\n",
       "      <th>Close/Last</th>\n",
       "      <th>Volume</th>\n",
       "      <th>Open</th>\n",
       "      <th>High</th>\n",
       "      <th>Low</th>\n",
       "    </tr>\n",
       "  </thead>\n",
       "  <tbody>\n",
       "    <tr>\n",
       "      <th>count</th>\n",
       "      <td>90</td>\n",
       "      <td>90</td>\n",
       "      <td>90</td>\n",
       "      <td>90</td>\n",
       "      <td>90</td>\n",
       "    </tr>\n",
       "    <tr>\n",
       "      <th>mean</th>\n",
       "      <td>1669</td>\n",
       "      <td>138715</td>\n",
       "      <td>1671</td>\n",
       "      <td>1679</td>\n",
       "      <td>1659</td>\n",
       "    </tr>\n",
       "    <tr>\n",
       "      <th>std</th>\n",
       "      <td>49</td>\n",
       "      <td>41561</td>\n",
       "      <td>48</td>\n",
       "      <td>47</td>\n",
       "      <td>49</td>\n",
       "    </tr>\n",
       "    <tr>\n",
       "      <th>min</th>\n",
       "      <td>1572</td>\n",
       "      <td>40829</td>\n",
       "      <td>1564</td>\n",
       "      <td>1582</td>\n",
       "      <td>1554</td>\n",
       "    </tr>\n",
       "    <tr>\n",
       "      <th>25%</th>\n",
       "      <td>1649</td>\n",
       "      <td>112521</td>\n",
       "      <td>1655</td>\n",
       "      <td>1663</td>\n",
       "      <td>1641</td>\n",
       "    </tr>\n",
       "    <tr>\n",
       "      <th>50%</th>\n",
       "      <td>1674</td>\n",
       "      <td>135184</td>\n",
       "      <td>1674</td>\n",
       "      <td>1684</td>\n",
       "      <td>1663</td>\n",
       "    </tr>\n",
       "    <tr>\n",
       "      <th>75%</th>\n",
       "      <td>1711</td>\n",
       "      <td>163687</td>\n",
       "      <td>1712</td>\n",
       "      <td>1718</td>\n",
       "      <td>1700</td>\n",
       "    </tr>\n",
       "    <tr>\n",
       "      <th>max</th>\n",
       "      <td>1751</td>\n",
       "      <td>241179</td>\n",
       "      <td>1751</td>\n",
       "      <td>1755</td>\n",
       "      <td>1746</td>\n",
       "    </tr>\n",
       "  </tbody>\n",
       "</table>\n",
       "</div>"
      ],
      "text/plain": [
       "       Close/Last  Volume  Open  High   Low\n",
       "count          90      90    90    90    90\n",
       "mean         1669  138715  1671  1679  1659\n",
       "std            49   41561    48    47    49\n",
       "min          1572   40829  1564  1582  1554\n",
       "25%          1649  112521  1655  1663  1641\n",
       "50%          1674  135184  1674  1684  1663\n",
       "75%          1711  163687  1712  1718  1700\n",
       "max          1751  241179  1751  1755  1746"
      ]
     },
     "execution_count": 282,
     "metadata": {},
     "output_type": "execute_result"
    }
   ],
   "source": [
    "df.iloc[-90:].describe().astype(int)   "
   ]
  },
  {
   "cell_type": "markdown",
   "id": "1ef6619b",
   "metadata": {},
   "source": [
    "So in the last two months (90 trading days), <br>\n",
    "we can see the average price is 1669 which is more that what it is currently trading at 1648 <br>\n",
    "and so on ... <br>\n",
    "The maximum volume traded in a single day was 241179, which is a huge number."
   ]
  },
  {
   "cell_type": "markdown",
   "id": "db649973",
   "metadata": {},
   "source": [
    "***So inorder to make ploting easier, Lets make the default index the 'Date' column*** <br>\n",
    "This makes the ploting easier"
   ]
  },
  {
   "cell_type": "code",
   "execution_count": 283,
   "id": "0eb6579d",
   "metadata": {},
   "outputs": [],
   "source": [
    "df.index = df['Date']"
   ]
  },
  {
   "cell_type": "code",
   "execution_count": 340,
   "id": "c6e4eeec",
   "metadata": {},
   "outputs": [
    {
     "data": {
      "text/plain": [
       "<AxesSubplot:>"
      ]
     },
     "execution_count": 340,
     "metadata": {},
     "output_type": "execute_result"
    },
    {
     "data": {
      "image/png": "[encoded data removed]",
      "text/plain": [
       "<Figure size 1080x576 with 1 Axes>"
      ]
     },
     "metadata": {},
     "output_type": "display_data"
    }
   ],
   "source": [
    "df['Close/Last'].plot(figsize = (15,8))   # Visualizing the closing Price (Target) over a period of time"
   ]
  },
  {
   "cell_type": "markdown",
   "id": "ef4096ac",
   "metadata": {},
   "source": [
    "***Lets try to see the relationship/correlation between each variables (features and target)***"
   ]
  },
  {
   "cell_type": "code",
   "execution_count": 338,
   "id": "91914c15",
   "metadata": {},
   "outputs": [
    {
     "data": {
      "text/html": [
       "<div>\n",
       "<style scoped>\n",
       "    .dataframe tbody tr th:only-of-type {\n",
       "        vertical-align: middle;\n",
       "    }\n",
       "\n",
       "    .dataframe tbody tr th {\n",
       "        vertical-align: top;\n",
       "    }\n",
       "\n",
       "    .dataframe thead th {\n",
       "        text-align: right;\n",
       "    }\n",
       "</style>\n",
       "<table border=\"1\" class=\"dataframe\">\n",
       "  <thead>\n",
       "    <tr style=\"text-align: right;\">\n",
       "      <th></th>\n",
       "      <th>Close/Last</th>\n",
       "      <th>Volume</th>\n",
       "      <th>Open</th>\n",
       "      <th>High</th>\n",
       "      <th>Low</th>\n",
       "      <th>Day%_Change</th>\n",
       "      <th>MA_20</th>\n",
       "    </tr>\n",
       "  </thead>\n",
       "  <tbody>\n",
       "    <tr>\n",
       "      <th>Close/Last</th>\n",
       "      <td>1.000000</td>\n",
       "      <td>0.067889</td>\n",
       "      <td>0.998688</td>\n",
       "      <td>0.999335</td>\n",
       "      <td>0.999422</td>\n",
       "      <td>0.027495</td>\n",
       "      <td>0.991093</td>\n",
       "    </tr>\n",
       "    <tr>\n",
       "      <th>Volume</th>\n",
       "      <td>0.067889</td>\n",
       "      <td>1.000000</td>\n",
       "      <td>0.072850</td>\n",
       "      <td>0.076852</td>\n",
       "      <td>0.062937</td>\n",
       "      <td>-0.047651</td>\n",
       "      <td>0.061052</td>\n",
       "    </tr>\n",
       "    <tr>\n",
       "      <th>Open</th>\n",
       "      <td>0.998688</td>\n",
       "      <td>0.072850</td>\n",
       "      <td>1.000000</td>\n",
       "      <td>0.999271</td>\n",
       "      <td>0.999142</td>\n",
       "      <td>-0.016223</td>\n",
       "      <td>0.991963</td>\n",
       "    </tr>\n",
       "    <tr>\n",
       "      <th>High</th>\n",
       "      <td>0.999335</td>\n",
       "      <td>0.076852</td>\n",
       "      <td>0.999271</td>\n",
       "      <td>1.000000</td>\n",
       "      <td>0.998918</td>\n",
       "      <td>0.005449</td>\n",
       "      <td>0.991679</td>\n",
       "    </tr>\n",
       "    <tr>\n",
       "      <th>Low</th>\n",
       "      <td>0.999422</td>\n",
       "      <td>0.062937</td>\n",
       "      <td>0.999142</td>\n",
       "      <td>0.998918</td>\n",
       "      <td>1.000000</td>\n",
       "      <td>0.008646</td>\n",
       "      <td>0.991346</td>\n",
       "    </tr>\n",
       "    <tr>\n",
       "      <th>Day%_Change</th>\n",
       "      <td>0.027495</td>\n",
       "      <td>-0.047651</td>\n",
       "      <td>-0.016223</td>\n",
       "      <td>0.005449</td>\n",
       "      <td>0.008646</td>\n",
       "      <td>1.000000</td>\n",
       "      <td>-0.022320</td>\n",
       "    </tr>\n",
       "    <tr>\n",
       "      <th>MA_20</th>\n",
       "      <td>0.991093</td>\n",
       "      <td>0.061052</td>\n",
       "      <td>0.991963</td>\n",
       "      <td>0.991679</td>\n",
       "      <td>0.991346</td>\n",
       "      <td>-0.022320</td>\n",
       "      <td>1.000000</td>\n",
       "    </tr>\n",
       "  </tbody>\n",
       "</table>\n",
       "</div>"
      ],
      "text/plain": [
       "             Close/Last    Volume      Open      High       Low  Day%_Change  \\\n",
       "Close/Last     1.000000  0.067889  0.998688  0.999335  0.999422     0.027495   \n",
       "Volume         0.067889  1.000000  0.072850  0.076852  0.062937    -0.047651   \n",
       "Open           0.998688  0.072850  1.000000  0.999271  0.999142    -0.016223   \n",
       "High           0.999335  0.076852  0.999271  1.000000  0.998918     0.005449   \n",
       "Low            0.999422  0.062937  0.999142  0.998918  1.000000     0.008646   \n",
       "Day%_Change    0.027495 -0.047651 -0.016223  0.005449  0.008646     1.000000   \n",
       "MA_20          0.991093  0.061052  0.991963  0.991679  0.991346    -0.022320   \n",
       "\n",
       "                MA_20  \n",
       "Close/Last   0.991093  \n",
       "Volume       0.061052  \n",
       "Open         0.991963  \n",
       "High         0.991679  \n",
       "Low          0.991346  \n",
       "Day%_Change -0.022320  \n",
       "MA_20        1.000000  "
      ]
     },
     "execution_count": 338,
     "metadata": {},
     "output_type": "execute_result"
    }
   ],
   "source": [
    "he = df.drop(columns=['Date'], axis=\"1\")\n",
    "corr = he.corr()\n",
    "corr"
   ]
  },
  {
   "cell_type": "code",
   "execution_count": 341,
   "id": "b04b9429",
   "metadata": {},
   "outputs": [
    {
     "data": {
      "text/plain": [
       "<AxesSubplot:>"
      ]
     },
     "execution_count": 341,
     "metadata": {},
     "output_type": "execute_result"
    },
    {
     "data": {
      "image/png": "[encoded data removed]",
      "text/plain": [
       "<Figure size 432x288 with 2 Axes>"
      ]
     },
     "metadata": {},
     "output_type": "display_data"
    }
   ],
   "source": [
    "sns.heatmap(corr, annot=True)"
   ]
  },
  {
   "cell_type": "markdown",
   "id": "d65eac7c",
   "metadata": {},
   "source": [
    "# Feature Enginerring and analytics"
   ]
  },
  {
   "cell_type": "markdown",
   "id": "a9459775",
   "metadata": {},
   "source": [
    "***Daily percentage price*** <br>\n",
    "This indicator shows the percentage increase/decrease of the daily price in respect to the previous day. <br>\n",
    "Lets make a column for this and calculate it.\n",
    "This could highly contribute to our models performance. <br>\n",
    "But before doing that lets sort it in increasing date!\n"
   ]
  },
  {
   "cell_type": "code",
   "execution_count": 285,
   "id": "0ee4cb6b",
   "metadata": {},
   "outputs": [],
   "source": [
    "df.sort_index(inplace=True)"
   ]
  },
  {
   "cell_type": "code",
   "execution_count": 346,
   "id": "4b8fc5d4",
   "metadata": {},
   "outputs": [
    {
     "data": {
      "text/html": [
       "<div>\n",
       "<style scoped>\n",
       "    .dataframe tbody tr th:only-of-type {\n",
       "        vertical-align: middle;\n",
       "    }\n",
       "\n",
       "    .dataframe tbody tr th {\n",
       "        vertical-align: top;\n",
       "    }\n",
       "\n",
       "    .dataframe thead th {\n",
       "        text-align: right;\n",
       "    }\n",
       "</style>\n",
       "<table border=\"1\" class=\"dataframe\">\n",
       "  <thead>\n",
       "    <tr style=\"text-align: right;\">\n",
       "      <th></th>\n",
       "      <th>Date</th>\n",
       "      <th>Close/Last</th>\n",
       "      <th>Volume</th>\n",
       "      <th>Open</th>\n",
       "      <th>High</th>\n",
       "      <th>Low</th>\n",
       "      <th>Day%_Change</th>\n",
       "      <th>MA_20</th>\n",
       "    </tr>\n",
       "  </thead>\n",
       "  <tbody>\n",
       "    <tr>\n",
       "      <th>0</th>\n",
       "      <td>0.0</td>\n",
       "      <td>1729.5</td>\n",
       "      <td>164158.0</td>\n",
       "      <td>1722.4</td>\n",
       "      <td>1731.2</td>\n",
       "      <td>1720.1</td>\n",
       "      <td>NaN</td>\n",
       "      <td>1722.595</td>\n",
       "    </tr>\n",
       "    <tr>\n",
       "      <th>1</th>\n",
       "      <td>1.0</td>\n",
       "      <td>1712.7</td>\n",
       "      <td>132848.0</td>\n",
       "      <td>1728.0</td>\n",
       "      <td>1733.7</td>\n",
       "      <td>1710.2</td>\n",
       "      <td>-0.971379</td>\n",
       "      <td>1722.455</td>\n",
       "    </tr>\n",
       "    <tr>\n",
       "      <th>2</th>\n",
       "      <td>2.0</td>\n",
       "      <td>1721.1</td>\n",
       "      <td>92921.0</td>\n",
       "      <td>1715.5</td>\n",
       "      <td>1724.9</td>\n",
       "      <td>1714.2</td>\n",
       "      <td>0.490454</td>\n",
       "      <td>1724.750</td>\n",
       "    </tr>\n",
       "    <tr>\n",
       "      <th>3</th>\n",
       "      <td>3.0</td>\n",
       "      <td>1695.8</td>\n",
       "      <td>178848.0</td>\n",
       "      <td>1701.0</td>\n",
       "      <td>1719.2</td>\n",
       "      <td>1692.6</td>\n",
       "      <td>-1.469990</td>\n",
       "      <td>1725.380</td>\n",
       "    </tr>\n",
       "    <tr>\n",
       "      <th>4</th>\n",
       "      <td>4.0</td>\n",
       "      <td>1693.8</td>\n",
       "      <td>140887.0</td>\n",
       "      <td>1697.7</td>\n",
       "      <td>1708.3</td>\n",
       "      <td>1686.0</td>\n",
       "      <td>-0.117938</td>\n",
       "      <td>1724.320</td>\n",
       "    </tr>\n",
       "  </tbody>\n",
       "</table>\n",
       "</div>"
      ],
      "text/plain": [
       "   Date  Close/Last    Volume    Open    High     Low  Day%_Change     MA_20\n",
       "0   0.0      1729.5  164158.0  1722.4  1731.2  1720.1          NaN  1722.595\n",
       "1   1.0      1712.7  132848.0  1728.0  1733.7  1710.2    -0.971379  1722.455\n",
       "2   2.0      1721.1   92921.0  1715.5  1724.9  1714.2     0.490454  1724.750\n",
       "3   3.0      1695.8  178848.0  1701.0  1719.2  1692.6    -1.469990  1725.380\n",
       "4   4.0      1693.8  140887.0  1697.7  1708.3  1686.0    -0.117938  1724.320"
      ]
     },
     "execution_count": 346,
     "metadata": {},
     "output_type": "execute_result"
    }
   ],
   "source": [
    "df['Day%_Change'] = df['Close/Last'].pct_change()*100\n",
    "df.head()"
   ]
  },
  {
   "cell_type": "markdown",
   "id": "e4a0ffdc",
   "metadata": {},
   "source": [
    "***So*** , we can see the missing first value because we dont have information for the previous day. <br>\n",
    "Lets just drop it"
   ]
  },
  {
   "cell_type": "code",
   "execution_count": 287,
   "id": "ae68f040",
   "metadata": {},
   "outputs": [
    {
     "data": {
      "text/html": [
       "<div>\n",
       "<style scoped>\n",
       "    .dataframe tbody tr th:only-of-type {\n",
       "        vertical-align: middle;\n",
       "    }\n",
       "\n",
       "    .dataframe tbody tr th {\n",
       "        vertical-align: top;\n",
       "    }\n",
       "\n",
       "    .dataframe thead th {\n",
       "        text-align: right;\n",
       "    }\n",
       "</style>\n",
       "<table border=\"1\" class=\"dataframe\">\n",
       "  <thead>\n",
       "    <tr style=\"text-align: right;\">\n",
       "      <th></th>\n",
       "      <th>Date</th>\n",
       "      <th>Close/Last</th>\n",
       "      <th>Volume</th>\n",
       "      <th>Open</th>\n",
       "      <th>High</th>\n",
       "      <th>Low</th>\n",
       "      <th>Day%_Change</th>\n",
       "    </tr>\n",
       "    <tr>\n",
       "      <th>Date</th>\n",
       "      <th></th>\n",
       "      <th></th>\n",
       "      <th></th>\n",
       "      <th></th>\n",
       "      <th></th>\n",
       "      <th></th>\n",
       "      <th></th>\n",
       "    </tr>\n",
       "  </thead>\n",
       "  <tbody>\n",
       "    <tr>\n",
       "      <th>2012-11-01</th>\n",
       "      <td>2012-11-01</td>\n",
       "      <td>1715.5</td>\n",
       "      <td>105904.0</td>\n",
       "      <td>1720.4</td>\n",
       "      <td>1727.5</td>\n",
       "      <td>1715.1</td>\n",
       "      <td>-0.209412</td>\n",
       "    </tr>\n",
       "    <tr>\n",
       "      <th>2012-11-02</th>\n",
       "      <td>2012-11-02</td>\n",
       "      <td>1675.2</td>\n",
       "      <td>205777.0</td>\n",
       "      <td>1715.6</td>\n",
       "      <td>1717.2</td>\n",
       "      <td>1674.8</td>\n",
       "      <td>-2.349169</td>\n",
       "    </tr>\n",
       "  </tbody>\n",
       "</table>\n",
       "</div>"
      ],
      "text/plain": [
       "                 Date  Close/Last    Volume    Open    High     Low  \\\n",
       "Date                                                                  \n",
       "2012-11-01 2012-11-01      1715.5  105904.0  1720.4  1727.5  1715.1   \n",
       "2012-11-02 2012-11-02      1675.2  205777.0  1715.6  1717.2  1674.8   \n",
       "\n",
       "            Day%_Change  \n",
       "Date                     \n",
       "2012-11-01    -0.209412  \n",
       "2012-11-02    -2.349169  "
      ]
     },
     "execution_count": 287,
     "metadata": {},
     "output_type": "execute_result"
    }
   ],
   "source": [
    "df.dropna(axis = 0, inplace = True)\n",
    "df.head(2)"
   ]
  },
  {
   "cell_type": "markdown",
   "id": "1dd65f70",
   "metadata": {},
   "source": [
    "***Lets visualize the Daily percentage change using a plot***"
   ]
  },
  {
   "cell_type": "code",
   "execution_count": 288,
   "id": "9ecf45f7",
   "metadata": {},
   "outputs": [
    {
     "data": {
      "text/plain": [
       "<AxesSubplot:xlabel='Date'>"
      ]
     },
     "execution_count": 288,
     "metadata": {},
     "output_type": "execute_result"
    },
    {
     "data": {
      "image/png": "[encoded data removed]",
      "text/plain": [
       "<Figure size 1440x432 with 1 Axes>"
      ]
     },
     "metadata": {},
     "output_type": "display_data"
    }
   ],
   "source": [
    "df['Day%_Change'].plot(figsize = (20, 6), fontsize = 12)"
   ]
  },
  {
   "cell_type": "markdown",
   "id": "68127057",
   "metadata": {},
   "source": [
    "We can note that Gold was really volatile in 2020 and 2013. <br>\n",
    "We can see that in most cases, the daily closing day percentage change lies between 2% and -2%. "
   ]
  },
  {
   "cell_type": "markdown",
   "id": "d5f3e49c",
   "metadata": {},
   "source": [
    "<h3>Trend Analysis ( Moving Average) </h3> <br> \n",
    "Lets create one more feature, which is moving average! <br>\n",
    "moving average is one of the most important factors in technical analysis. <br>\n",
    "Lets make a moving average of the past 20 days and a new column."
   ]
  },
  {
   "cell_type": "code",
   "execution_count": 289,
   "id": "d1366900",
   "metadata": {},
   "outputs": [],
   "source": [
    "df['MA_20'] = df['Close/Last'].rolling(20).mean()"
   ]
  },
  {
   "cell_type": "code",
   "execution_count": 290,
   "id": "01b603ab",
   "metadata": {},
   "outputs": [
    {
     "data": {
      "text/html": [
       "<div>\n",
       "<style scoped>\n",
       "    .dataframe tbody tr th:only-of-type {\n",
       "        vertical-align: middle;\n",
       "    }\n",
       "\n",
       "    .dataframe tbody tr th {\n",
       "        vertical-align: top;\n",
       "    }\n",
       "\n",
       "    .dataframe thead th {\n",
       "        text-align: right;\n",
       "    }\n",
       "</style>\n",
       "<table border=\"1\" class=\"dataframe\">\n",
       "  <thead>\n",
       "    <tr style=\"text-align: right;\">\n",
       "      <th></th>\n",
       "      <th>Date</th>\n",
       "      <th>Close/Last</th>\n",
       "      <th>Volume</th>\n",
       "      <th>Open</th>\n",
       "      <th>High</th>\n",
       "      <th>Low</th>\n",
       "      <th>Day%_Change</th>\n",
       "      <th>MA_20</th>\n",
       "    </tr>\n",
       "    <tr>\n",
       "      <th>Date</th>\n",
       "      <th></th>\n",
       "      <th></th>\n",
       "      <th></th>\n",
       "      <th></th>\n",
       "      <th></th>\n",
       "      <th></th>\n",
       "      <th></th>\n",
       "      <th></th>\n",
       "    </tr>\n",
       "  </thead>\n",
       "  <tbody>\n",
       "    <tr>\n",
       "      <th>2012-11-01</th>\n",
       "      <td>2012-11-01</td>\n",
       "      <td>1715.5</td>\n",
       "      <td>105904.0</td>\n",
       "      <td>1720.4</td>\n",
       "      <td>1727.5</td>\n",
       "      <td>1715.1</td>\n",
       "      <td>-0.209412</td>\n",
       "      <td>NaN</td>\n",
       "    </tr>\n",
       "    <tr>\n",
       "      <th>2012-11-02</th>\n",
       "      <td>2012-11-02</td>\n",
       "      <td>1675.2</td>\n",
       "      <td>205777.0</td>\n",
       "      <td>1715.6</td>\n",
       "      <td>1717.2</td>\n",
       "      <td>1674.8</td>\n",
       "      <td>-2.349169</td>\n",
       "      <td>NaN</td>\n",
       "    </tr>\n",
       "    <tr>\n",
       "      <th>2012-11-05</th>\n",
       "      <td>2012-11-05</td>\n",
       "      <td>1683.2</td>\n",
       "      <td>109647.0</td>\n",
       "      <td>1676.7</td>\n",
       "      <td>1686.2</td>\n",
       "      <td>1672.5</td>\n",
       "      <td>0.477555</td>\n",
       "      <td>NaN</td>\n",
       "    </tr>\n",
       "    <tr>\n",
       "      <th>2012-11-06</th>\n",
       "      <td>2012-11-06</td>\n",
       "      <td>1715.0</td>\n",
       "      <td>163585.0</td>\n",
       "      <td>1685.4</td>\n",
       "      <td>1720.9</td>\n",
       "      <td>1683.5</td>\n",
       "      <td>1.889259</td>\n",
       "      <td>NaN</td>\n",
       "    </tr>\n",
       "    <tr>\n",
       "      <th>2012-11-07</th>\n",
       "      <td>2012-11-07</td>\n",
       "      <td>1714.0</td>\n",
       "      <td>241179.0</td>\n",
       "      <td>1715.8</td>\n",
       "      <td>1733.0</td>\n",
       "      <td>1703.0</td>\n",
       "      <td>-0.058309</td>\n",
       "      <td>NaN</td>\n",
       "    </tr>\n",
       "    <tr>\n",
       "      <th>2012-11-08</th>\n",
       "      <td>2012-11-08</td>\n",
       "      <td>1726.0</td>\n",
       "      <td>147342.0</td>\n",
       "      <td>1714.8</td>\n",
       "      <td>1735.1</td>\n",
       "      <td>1712.6</td>\n",
       "      <td>0.700117</td>\n",
       "      <td>NaN</td>\n",
       "    </tr>\n",
       "    <tr>\n",
       "      <th>2012-11-09</th>\n",
       "      <td>2012-11-09</td>\n",
       "      <td>1730.9</td>\n",
       "      <td>137819.0</td>\n",
       "      <td>1731.5</td>\n",
       "      <td>1739.4</td>\n",
       "      <td>1726.9</td>\n",
       "      <td>0.283893</td>\n",
       "      <td>NaN</td>\n",
       "    </tr>\n",
       "    <tr>\n",
       "      <th>2012-11-12</th>\n",
       "      <td>2012-11-12</td>\n",
       "      <td>1730.9</td>\n",
       "      <td>100825.0</td>\n",
       "      <td>1731.8</td>\n",
       "      <td>1738.0</td>\n",
       "      <td>1725.2</td>\n",
       "      <td>0.000000</td>\n",
       "      <td>NaN</td>\n",
       "    </tr>\n",
       "    <tr>\n",
       "      <th>2012-11-13</th>\n",
       "      <td>2012-11-13</td>\n",
       "      <td>1724.8</td>\n",
       "      <td>132265.0</td>\n",
       "      <td>1729.0</td>\n",
       "      <td>1733.3</td>\n",
       "      <td>1717.6</td>\n",
       "      <td>-0.352418</td>\n",
       "      <td>NaN</td>\n",
       "    </tr>\n",
       "    <tr>\n",
       "      <th>2012-11-14</th>\n",
       "      <td>2012-11-14</td>\n",
       "      <td>1730.1</td>\n",
       "      <td>129679.0</td>\n",
       "      <td>1725.3</td>\n",
       "      <td>1734.1</td>\n",
       "      <td>1720.5</td>\n",
       "      <td>0.307282</td>\n",
       "      <td>NaN</td>\n",
       "    </tr>\n",
       "  </tbody>\n",
       "</table>\n",
       "</div>"
      ],
      "text/plain": [
       "                 Date  Close/Last    Volume    Open    High     Low  \\\n",
       "Date                                                                  \n",
       "2012-11-01 2012-11-01      1715.5  105904.0  1720.4  1727.5  1715.1   \n",
       "2012-11-02 2012-11-02      1675.2  205777.0  1715.6  1717.2  1674.8   \n",
       "2012-11-05 2012-11-05      1683.2  109647.0  1676.7  1686.2  1672.5   \n",
       "2012-11-06 2012-11-06      1715.0  163585.0  1685.4  1720.9  1683.5   \n",
       "2012-11-07 2012-11-07      1714.0  241179.0  1715.8  1733.0  1703.0   \n",
       "2012-11-08 2012-11-08      1726.0  147342.0  1714.8  1735.1  1712.6   \n",
       "2012-11-09 2012-11-09      1730.9  137819.0  1731.5  1739.4  1726.9   \n",
       "2012-11-12 2012-11-12      1730.9  100825.0  1731.8  1738.0  1725.2   \n",
       "2012-11-13 2012-11-13      1724.8  132265.0  1729.0  1733.3  1717.6   \n",
       "2012-11-14 2012-11-14      1730.1  129679.0  1725.3  1734.1  1720.5   \n",
       "\n",
       "            Day%_Change  MA_20  \n",
       "Date                            \n",
       "2012-11-01    -0.209412    NaN  \n",
       "2012-11-02    -2.349169    NaN  \n",
       "2012-11-05     0.477555    NaN  \n",
       "2012-11-06     1.889259    NaN  \n",
       "2012-11-07    -0.058309    NaN  \n",
       "2012-11-08     0.700117    NaN  \n",
       "2012-11-09     0.283893    NaN  \n",
       "2012-11-12     0.000000    NaN  \n",
       "2012-11-13    -0.352418    NaN  \n",
       "2012-11-14     0.307282    NaN  "
      ]
     },
     "execution_count": 290,
     "metadata": {},
     "output_type": "execute_result"
    }
   ],
   "source": [
    "df.head(10)"
   ]
  },
  {
   "cell_type": "markdown",
   "id": "af1f2616",
   "metadata": {},
   "source": [
    "***So again***, we have 19 missing values because we cant calculate the mean of 20 days <br> \n",
    "before the earliest 20 days we have in our dataset. <br> \n",
    "So lets just drop the missing values"
   ]
  },
  {
   "cell_type": "code",
   "execution_count": 291,
   "id": "cabe660c",
   "metadata": {},
   "outputs": [],
   "source": [
    "df.dropna(axis = 0, inplace = True)  ## Removing missing values\n",
    "df.head(10)"
   ]
  },
  {
   "cell_type": "code",
   "execution_count": 292,
   "id": "b681418b",
   "metadata": {},
   "outputs": [
    {
     "data": {
      "text/plain": [
       "<matplotlib.legend.Legend at 0x12470ca60>"
      ]
     },
     "execution_count": 292,
     "metadata": {},
     "output_type": "execute_result"
    },
    {
     "data": {
      "image/png": "[encoded data removed]",
      "text/plain": [
       "<Figure size 1080x648 with 1 Axes>"
      ]
     },
     "metadata": {},
     "output_type": "display_data"
    }
   ],
   "source": [
    "df.MA_20.plot(figsize=(15,9))\n",
    "df['Close/Last'].plot()\n",
    "#df.Open.plot()\n",
    "plt.legend(['MA_20','Close/Last'])"
   ]
  },
  {
   "cell_type": "markdown",
   "id": "9e11b754",
   "metadata": {},
   "source": [
    "***Reseting Index*** <br>\n",
    "After visiualization, Lets just reset the index"
   ]
  },
  {
   "cell_type": "code",
   "execution_count": 295,
   "id": "686d29aa",
   "metadata": {},
   "outputs": [],
   "source": [
    "df = df.reset_index(drop=True)"
   ]
  },
  {
   "cell_type": "markdown",
   "id": "7a857f6e",
   "metadata": {},
   "source": [
    "---"
   ]
  },
  {
   "cell_type": "markdown",
   "id": "e60434d9",
   "metadata": {},
   "source": [
    "# Encoding features using OrdinalEncoder"
   ]
  },
  {
   "cell_type": "markdown",
   "id": "112d3685",
   "metadata": {},
   "source": [
    "***Here***, lets encode the date, it is sorted in an increasing order <br>\n",
    "so Ordinal Encoder by default will take of the assignment correctly."
   ]
  },
  {
   "cell_type": "code",
   "execution_count": 296,
   "id": "0117b5a0",
   "metadata": {},
   "outputs": [],
   "source": [
    "from sklearn.preprocessing import OrdinalEncoder\n",
    "enc = OrdinalEncoder()\n",
    "df[\"Date\"] = enc.fit_transform(df[[\"Date\"]])"
   ]
  },
  {
   "cell_type": "code",
   "execution_count": 297,
   "id": "abb6f141",
   "metadata": {},
   "outputs": [
    {
     "data": {
      "text/html": [
       "<div>\n",
       "<style scoped>\n",
       "    .dataframe tbody tr th:only-of-type {\n",
       "        vertical-align: middle;\n",
       "    }\n",
       "\n",
       "    .dataframe tbody tr th {\n",
       "        vertical-align: top;\n",
       "    }\n",
       "\n",
       "    .dataframe thead th {\n",
       "        text-align: right;\n",
       "    }\n",
       "</style>\n",
       "<table border=\"1\" class=\"dataframe\">\n",
       "  <thead>\n",
       "    <tr style=\"text-align: right;\">\n",
       "      <th></th>\n",
       "      <th>Date</th>\n",
       "      <th>Close/Last</th>\n",
       "      <th>Volume</th>\n",
       "      <th>Open</th>\n",
       "      <th>High</th>\n",
       "      <th>Low</th>\n",
       "      <th>Day%_Change</th>\n",
       "      <th>MA_20</th>\n",
       "    </tr>\n",
       "  </thead>\n",
       "  <tbody>\n",
       "    <tr>\n",
       "      <th>0</th>\n",
       "      <td>0.0</td>\n",
       "      <td>1729.5</td>\n",
       "      <td>164158.0</td>\n",
       "      <td>1722.4</td>\n",
       "      <td>1731.2</td>\n",
       "      <td>1720.1</td>\n",
       "      <td>0.622527</td>\n",
       "      <td>1722.595</td>\n",
       "    </tr>\n",
       "    <tr>\n",
       "      <th>1</th>\n",
       "      <td>1.0</td>\n",
       "      <td>1712.7</td>\n",
       "      <td>132848.0</td>\n",
       "      <td>1728.0</td>\n",
       "      <td>1733.7</td>\n",
       "      <td>1710.2</td>\n",
       "      <td>-0.971379</td>\n",
       "      <td>1722.455</td>\n",
       "    </tr>\n",
       "    <tr>\n",
       "      <th>2</th>\n",
       "      <td>2.0</td>\n",
       "      <td>1721.1</td>\n",
       "      <td>92921.0</td>\n",
       "      <td>1715.5</td>\n",
       "      <td>1724.9</td>\n",
       "      <td>1714.2</td>\n",
       "      <td>0.490454</td>\n",
       "      <td>1724.750</td>\n",
       "    </tr>\n",
       "    <tr>\n",
       "      <th>3</th>\n",
       "      <td>3.0</td>\n",
       "      <td>1695.8</td>\n",
       "      <td>178848.0</td>\n",
       "      <td>1701.0</td>\n",
       "      <td>1719.2</td>\n",
       "      <td>1692.6</td>\n",
       "      <td>-1.469990</td>\n",
       "      <td>1725.380</td>\n",
       "    </tr>\n",
       "    <tr>\n",
       "      <th>4</th>\n",
       "      <td>4.0</td>\n",
       "      <td>1693.8</td>\n",
       "      <td>140887.0</td>\n",
       "      <td>1697.7</td>\n",
       "      <td>1708.3</td>\n",
       "      <td>1686.0</td>\n",
       "      <td>-0.117938</td>\n",
       "      <td>1724.320</td>\n",
       "    </tr>\n",
       "  </tbody>\n",
       "</table>\n",
       "</div>"
      ],
      "text/plain": [
       "   Date  Close/Last    Volume    Open    High     Low  Day%_Change     MA_20\n",
       "0   0.0      1729.5  164158.0  1722.4  1731.2  1720.1     0.622527  1722.595\n",
       "1   1.0      1712.7  132848.0  1728.0  1733.7  1710.2    -0.971379  1722.455\n",
       "2   2.0      1721.1   92921.0  1715.5  1724.9  1714.2     0.490454  1724.750\n",
       "3   3.0      1695.8  178848.0  1701.0  1719.2  1692.6    -1.469990  1725.380\n",
       "4   4.0      1693.8  140887.0  1697.7  1708.3  1686.0    -0.117938  1724.320"
      ]
     },
     "execution_count": 297,
     "metadata": {},
     "output_type": "execute_result"
    }
   ],
   "source": [
    "df.head()"
   ]
  },
  {
   "cell_type": "markdown",
   "id": "1fa7440b",
   "metadata": {},
   "source": [
    "---"
   ]
  },
  {
   "cell_type": "markdown",
   "id": "d32e6b55",
   "metadata": {},
   "source": [
    "# StardardScaler"
   ]
  },
  {
   "cell_type": "code",
   "execution_count": 298,
   "id": "7433830f",
   "metadata": {},
   "outputs": [],
   "source": [
    "from sklearn.preprocessing import StandardScaler\n",
    "scaler = StandardScaler()"
   ]
  },
  {
   "cell_type": "code",
   "execution_count": 308,
   "id": "47b717be",
   "metadata": {},
   "outputs": [
    {
     "data": {
      "text/html": [
       "<div>\n",
       "<style scoped>\n",
       "    .dataframe tbody tr th:only-of-type {\n",
       "        vertical-align: middle;\n",
       "    }\n",
       "\n",
       "    .dataframe tbody tr th {\n",
       "        vertical-align: top;\n",
       "    }\n",
       "\n",
       "    .dataframe thead th {\n",
       "        text-align: right;\n",
       "    }\n",
       "</style>\n",
       "<table border=\"1\" class=\"dataframe\">\n",
       "  <thead>\n",
       "    <tr style=\"text-align: right;\">\n",
       "      <th></th>\n",
       "      <th>Date</th>\n",
       "      <th>Volume</th>\n",
       "      <th>Open</th>\n",
       "      <th>High</th>\n",
       "      <th>Low</th>\n",
       "      <th>Day%_Change</th>\n",
       "      <th>MA_20</th>\n",
       "    </tr>\n",
       "  </thead>\n",
       "  <tbody>\n",
       "    <tr>\n",
       "      <th>0</th>\n",
       "      <td>-1.731355</td>\n",
       "      <td>-0.186175</td>\n",
       "      <td>1.113129</td>\n",
       "      <td>1.103256</td>\n",
       "      <td>1.154839</td>\n",
       "      <td>0.624443</td>\n",
       "      <td>1.119696</td>\n",
       "    </tr>\n",
       "    <tr>\n",
       "      <th>1</th>\n",
       "      <td>-1.729962</td>\n",
       "      <td>-0.506156</td>\n",
       "      <td>1.134959</td>\n",
       "      <td>1.112938</td>\n",
       "      <td>1.115853</td>\n",
       "      <td>-0.982759</td>\n",
       "      <td>1.119147</td>\n",
       "    </tr>\n",
       "    <tr>\n",
       "      <th>2</th>\n",
       "      <td>-1.728570</td>\n",
       "      <td>-0.914202</td>\n",
       "      <td>1.086232</td>\n",
       "      <td>1.078857</td>\n",
       "      <td>1.131605</td>\n",
       "      <td>0.491268</td>\n",
       "      <td>1.128141</td>\n",
       "    </tr>\n",
       "    <tr>\n",
       "      <th>3</th>\n",
       "      <td>-1.727178</td>\n",
       "      <td>-0.036046</td>\n",
       "      <td>1.029709</td>\n",
       "      <td>1.056782</td>\n",
       "      <td>1.046545</td>\n",
       "      <td>-1.485529</td>\n",
       "      <td>1.130610</td>\n",
       "    </tr>\n",
       "    <tr>\n",
       "      <th>4</th>\n",
       "      <td>-1.725785</td>\n",
       "      <td>-0.424000</td>\n",
       "      <td>1.016846</td>\n",
       "      <td>1.014568</td>\n",
       "      <td>1.020554</td>\n",
       "      <td>-0.122199</td>\n",
       "      <td>1.126456</td>\n",
       "    </tr>\n",
       "  </tbody>\n",
       "</table>\n",
       "</div>"
      ],
      "text/plain": [
       "       Date    Volume      Open      High       Low  Day%_Change     MA_20\n",
       "0 -1.731355 -0.186175  1.113129  1.103256  1.154839     0.624443  1.119696\n",
       "1 -1.729962 -0.506156  1.134959  1.112938  1.115853    -0.982759  1.119147\n",
       "2 -1.728570 -0.914202  1.086232  1.078857  1.131605     0.491268  1.128141\n",
       "3 -1.727178 -0.036046  1.029709  1.056782  1.046545    -1.485529  1.130610\n",
       "4 -1.725785 -0.424000  1.016846  1.014568  1.020554    -0.122199  1.126456"
      ]
     },
     "execution_count": 308,
     "metadata": {},
     "output_type": "execute_result"
    }
   ],
   "source": [
    "\n",
    "scaled_features = scaler.fit_transform(df.drop([\"Close/Last\"], axis=\"columns\"))\n",
    "df_featured = pd.DataFrame(scaled_features, columns=df.drop([\"Close/Last\"], axis=1).columns)\n",
    "df_featured.head()"
   ]
  },
  {
   "cell_type": "markdown",
   "id": "24f54e79",
   "metadata": {},
   "source": [
    "---"
   ]
  },
  {
   "cell_type": "markdown",
   "id": "18266339",
   "metadata": {},
   "source": [
    "# Splitting the data"
   ]
  },
  {
   "cell_type": "code",
   "execution_count": 344,
   "id": "cfad8389",
   "metadata": {},
   "outputs": [],
   "source": [
    "from sklearn.model_selection import train_test_split\n",
    "x=df_featured\n",
    "y=df[\"Close/Last\"]\n",
    "x_train, x_test, y_train, y_test = train_test_split(x, y, test_size=0.33,random_state=0)"
   ]
  },
  {
   "cell_type": "markdown",
   "id": "19de1e07",
   "metadata": {},
   "source": [
    "---"
   ]
  },
  {
   "cell_type": "markdown",
   "id": "2a3b3414",
   "metadata": {},
   "source": [
    "***Lets create a function to do out metrices printing***"
   ]
  },
  {
   "cell_type": "code",
   "execution_count": 326,
   "id": "3f5da255",
   "metadata": {},
   "outputs": [],
   "source": [
    "from sklearn.metrics import mean_absolute_error, r2_score, mean_squared_error\n",
    "def calculate_metrices(test_values, pred_values):\n",
    "    print('---------------------------------------------------')\n",
    "    print(\"mean_absolute_error --> \", mean_absolute_error(test_values, pred_values))\n",
    "    print(\"mean_squared_error  --> \", mean_squared_error(test_values, pred_values))\n",
    "    print(\"r2_score            --> \", r2_score(test_values, pred_values))\n",
    "    print('---------------------------------------------------')"
   ]
  },
  {
   "cell_type": "markdown",
   "id": "f5fc56fb",
   "metadata": {},
   "source": [
    "# Linear Regression"
   ]
  },
  {
   "cell_type": "code",
   "execution_count": 327,
   "id": "478f25f9",
   "metadata": {},
   "outputs": [
    {
     "name": "stdout",
     "output_type": "stream",
     "text": [
      "---------------------------------------------------\n",
      "mean_absolute_error -->  2.94075773933541\n",
      "mean_squared_error  -->  17.573544195471197\n",
      "r2_score            -->  0.9997319054320252\n",
      "---------------------------------------------------\n"
     ]
    }
   ],
   "source": [
    "from sklearn.linear_model import LinearRegression\n",
    "lr = LinearRegression()\n",
    "lr.fit(x_train, y_train)\n",
    "y_pred = lr.predict(x_test)\n",
    "calculate_metrices(y_test, y_pred)"
   ]
  },
  {
   "cell_type": "code",
   "execution_count": null,
   "id": "891685d4",
   "metadata": {},
   "outputs": [],
   "source": []
  },
  {
   "cell_type": "markdown",
   "id": "d29bf68a",
   "metadata": {},
   "source": [
    "---"
   ]
  },
  {
   "cell_type": "markdown",
   "id": "b434aa2e",
   "metadata": {},
   "source": [
    "# RandomForestRegressor"
   ]
  },
  {
   "cell_type": "code",
   "execution_count": 333,
   "id": "d551f3d7",
   "metadata": {},
   "outputs": [
    {
     "name": "stdout",
     "output_type": "stream",
     "text": [
      "---------------------------------------------------\n",
      "mean_absolute_error -->  4.227832116788269\n",
      "mean_squared_error  -->  40.085138216544564\n",
      "r2_score            -->  0.9993884780615202\n",
      "---------------------------------------------------\n"
     ]
    }
   ],
   "source": [
    "from sklearn.ensemble import RandomForestRegressor \n",
    "rf = RandomForestRegressor(random_state=42) \n",
    "rf.fit(x_train, y_train)\n",
    "y_pred2 = rf.predict(x_test)\n",
    "calculate_metrices( y_test, y_pred2)"
   ]
  },
  {
   "cell_type": "code",
   "execution_count": 331,
   "id": "2e92ad63",
   "metadata": {},
   "outputs": [],
   "source": []
  },
  {
   "cell_type": "code",
   "execution_count": null,
   "id": "08775591",
   "metadata": {},
   "outputs": [],
   "source": []
  }
 ],
 "metadata": {
  "kernelspec": {
   "display_name": "Python 3 (ipykernel)",
   "language": "python",
   "name": "python3"
  },
  "language_info": {
   "codemirror_mode": {
    "name": "ipython",
    "version": 3
   },
   "file_extension": ".py",
   "mimetype": "text/x-python",
   "name": "python",
   "nbconvert_exporter": "python",
   "pygments_lexer": "ipython3",
   "version": "3.9.12"
  }
 },
 "nbformat": 4,
 "nbformat_minor": 5
}
