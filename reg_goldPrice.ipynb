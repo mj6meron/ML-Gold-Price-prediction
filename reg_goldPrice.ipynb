{
 "cells": [
  {
   "cell_type": "markdown",
   "id": "b7c7ad30",
   "metadata": {},
   "source": [
    "<h1>A script to predict the closing price of Gold ETF</h1>\n",
    "<h4>Author: Meron Habtemichael</h4>\n",
    "\n",
    "<ul>\n",
    "<i><h4>DataSet: <a href=\"https://www.kaggle.com/datasets/saikumartamminana/gold-price-prediction\" > Link to Kaggle </a></h4></i>   \n",
    "<i><h4>Report : <a href=\"https://hkrse-my.sharepoint.com/:w:/g/personal/meron_habtemichael0021_stud_hkr_se/EeEu4HqLShdPh7jLvDH5SwYBl-m8WHPNtyKyvGQDv6IUag?e=h8uc5l\" > Link to Ms Word Report </a></h4></i>\n",
    "\n",
    "<ul>\n"
   ]
  },
  {
   "cell_type": "markdown",
   "id": "fde9f337",
   "metadata": {},
   "source": [
    "---"
   ]
  },
  {
   "cell_type": "code",
   "execution_count": 189,
   "id": "804f9a6a",
   "metadata": {},
   "outputs": [],
   "source": [
    "import matplotlib.pyplot as plt\n",
    "%matplotlib inline\n",
    "import numpy as np\n",
    "import pandas as pd\n",
    "import seaborn as sns\n",
    "sns.set()\n",
    "import datetime\n",
    "import warnings\n",
    "warnings.filterwarnings('ignore')\n",
    "df = pd.read_csv(\"Datasets/Gold_price.csv\")"
   ]
  },
  {
   "cell_type": "code",
   "execution_count": 190,
   "id": "1fd05b9d",
   "metadata": {},
   "outputs": [
    {
     "data": {
      "text/html": [
       "<div>\n",
       "<style scoped>\n",
       "    .dataframe tbody tr th:only-of-type {\n",
       "        vertical-align: middle;\n",
       "    }\n",
       "\n",
       "    .dataframe tbody tr th {\n",
       "        vertical-align: top;\n",
       "    }\n",
       "\n",
       "    .dataframe thead th {\n",
       "        text-align: right;\n",
       "    }\n",
       "</style>\n",
       "<table border=\"1\" class=\"dataframe\">\n",
       "  <thead>\n",
       "    <tr style=\"text-align: right;\">\n",
       "      <th></th>\n",
       "      <th>Date</th>\n",
       "      <th>Close/Last</th>\n",
       "      <th>Volume</th>\n",
       "      <th>Open</th>\n",
       "      <th>High</th>\n",
       "      <th>Low</th>\n",
       "    </tr>\n",
       "  </thead>\n",
       "  <tbody>\n",
       "    <tr>\n",
       "      <th>0</th>\n",
       "      <td>10/28/2022</td>\n",
       "      <td>1648.3</td>\n",
       "      <td>186519.0</td>\n",
       "      <td>1667.2</td>\n",
       "      <td>1670.9</td>\n",
       "      <td>1640.7</td>\n",
       "    </tr>\n",
       "    <tr>\n",
       "      <th>1</th>\n",
       "      <td>10/27/2022</td>\n",
       "      <td>1668.8</td>\n",
       "      <td>180599.0</td>\n",
       "      <td>1668.8</td>\n",
       "      <td>1674.8</td>\n",
       "      <td>1658.5</td>\n",
       "    </tr>\n",
       "    <tr>\n",
       "      <th>2</th>\n",
       "      <td>10/26/2022</td>\n",
       "      <td>1669.2</td>\n",
       "      <td>183453.0</td>\n",
       "      <td>1657.7</td>\n",
       "      <td>1679.4</td>\n",
       "      <td>1653.8</td>\n",
       "    </tr>\n",
       "    <tr>\n",
       "      <th>3</th>\n",
       "      <td>10/25/2022</td>\n",
       "      <td>1658.0</td>\n",
       "      <td>178706.0</td>\n",
       "      <td>1654.5</td>\n",
       "      <td>1666.8</td>\n",
       "      <td>1641.2</td>\n",
       "    </tr>\n",
       "    <tr>\n",
       "      <th>4</th>\n",
       "      <td>10/24/2022</td>\n",
       "      <td>1654.1</td>\n",
       "      <td>167448.0</td>\n",
       "      <td>1662.9</td>\n",
       "      <td>1675.5</td>\n",
       "      <td>1648.0</td>\n",
       "    </tr>\n",
       "  </tbody>\n",
       "</table>\n",
       "</div>"
      ],
      "text/plain": [
       "         Date  Close/Last    Volume    Open    High     Low\n",
       "0  10/28/2022      1648.3  186519.0  1667.2  1670.9  1640.7\n",
       "1  10/27/2022      1668.8  180599.0  1668.8  1674.8  1658.5\n",
       "2  10/26/2022      1669.2  183453.0  1657.7  1679.4  1653.8\n",
       "3  10/25/2022      1658.0  178706.0  1654.5  1666.8  1641.2\n",
       "4  10/24/2022      1654.1  167448.0  1662.9  1675.5  1648.0"
      ]
     },
     "execution_count": 190,
     "metadata": {},
     "output_type": "execute_result"
    }
   ],
   "source": [
    "df.head()"
   ]
  },
  {
   "cell_type": "markdown",
   "id": "88c01b50",
   "metadata": {},
   "source": [
    "**Note that**: <br> *we can immediately observe that we need to encode the date, and scale/stardardize the values of our features. <br> but first lets visualize our data.*\n"
   ]
  },
  {
   "cell_type": "code",
   "execution_count": 191,
   "id": "bbc34a4f",
   "metadata": {},
   "outputs": [],
   "source": [
    "#sns.stripplot(x=\"Date\", y=\"Close/Last\", data=df,jitter=True,palette='Set1')"
   ]
  },
  {
   "cell_type": "code",
   "execution_count": 192,
   "id": "66824d5c",
   "metadata": {},
   "outputs": [],
   "source": [
    "#sns.barplot(x=\"day\", y=\"area\",data=df, estimator=np.mean)"
   ]
  },
  {
   "cell_type": "markdown",
   "id": "9280a0b4",
   "metadata": {},
   "source": [
    "---"
   ]
  },
  {
   "cell_type": "markdown",
   "id": "9907af60",
   "metadata": {},
   "source": [
    "# Data visiualization/analysis"
   ]
  },
  {
   "cell_type": "code",
   "execution_count": 193,
   "id": "4081f6ba",
   "metadata": {},
   "outputs": [
    {
     "data": {
      "text/plain": [
       "(2547, 6)"
      ]
     },
     "execution_count": 193,
     "metadata": {},
     "output_type": "execute_result"
    }
   ],
   "source": [
    "df.shape    # Lets see and determine the shape of the dataset"
   ]
  },
  {
   "cell_type": "code",
   "execution_count": 194,
   "id": "5688e5ab",
   "metadata": {},
   "outputs": [
    {
     "data": {
      "text/plain": [
       "Date           0\n",
       "Close/Last     0\n",
       "Volume        39\n",
       "Open           0\n",
       "High           0\n",
       "Low            0\n",
       "dtype: int64"
      ]
     },
     "execution_count": 194,
     "metadata": {},
     "output_type": "execute_result"
    }
   ],
   "source": [
    "df.isnull().sum()    # Check if we have missing values"
   ]
  },
  {
   "cell_type": "code",
   "execution_count": 195,
   "id": "8fdf5ad5",
   "metadata": {},
   "outputs": [],
   "source": [
    "df.dropna(inplace = True, axis = 0)     # Drop the null entries from the dataset ( volume has missing values)"
   ]
  },
  {
   "cell_type": "code",
   "execution_count": 196,
   "id": "a1883b06",
   "metadata": {},
   "outputs": [
    {
     "data": {
      "text/plain": [
       "Date           object\n",
       "Close/Last    float64\n",
       "Volume        float64\n",
       "Open          float64\n",
       "High          float64\n",
       "Low           float64\n",
       "dtype: object"
      ]
     },
     "execution_count": 196,
     "metadata": {},
     "output_type": "execute_result"
    }
   ],
   "source": [
    "df.dtypes     # Lets see the datatype of each feature"
   ]
  },
  {
   "cell_type": "markdown",
   "id": "4a959646",
   "metadata": {},
   "source": [
    "We can easly point out that the date feature is not in appropriate format. <br>\n",
    "We can use Pandas built in feature to deal with time-series data but first, <br>\n",
    "lets ensure the 'Date' column is of type 'datetime64'."
   ]
  },
  {
   "cell_type": "code",
   "execution_count": 197,
   "id": "c0f477f0",
   "metadata": {},
   "outputs": [
    {
     "data": {
      "text/html": [
       "<div>\n",
       "<style scoped>\n",
       "    .dataframe tbody tr th:only-of-type {\n",
       "        vertical-align: middle;\n",
       "    }\n",
       "\n",
       "    .dataframe tbody tr th {\n",
       "        vertical-align: top;\n",
       "    }\n",
       "\n",
       "    .dataframe thead th {\n",
       "        text-align: right;\n",
       "    }\n",
       "</style>\n",
       "<table border=\"1\" class=\"dataframe\">\n",
       "  <thead>\n",
       "    <tr style=\"text-align: right;\">\n",
       "      <th></th>\n",
       "      <th>Date</th>\n",
       "      <th>Close/Last</th>\n",
       "      <th>Volume</th>\n",
       "      <th>Open</th>\n",
       "      <th>High</th>\n",
       "      <th>Low</th>\n",
       "    </tr>\n",
       "  </thead>\n",
       "  <tbody>\n",
       "    <tr>\n",
       "      <th>0</th>\n",
       "      <td>2022-10-28</td>\n",
       "      <td>1648.3</td>\n",
       "      <td>186519.0</td>\n",
       "      <td>1667.2</td>\n",
       "      <td>1670.9</td>\n",
       "      <td>1640.7</td>\n",
       "    </tr>\n",
       "    <tr>\n",
       "      <th>1</th>\n",
       "      <td>2022-10-27</td>\n",
       "      <td>1668.8</td>\n",
       "      <td>180599.0</td>\n",
       "      <td>1668.8</td>\n",
       "      <td>1674.8</td>\n",
       "      <td>1658.5</td>\n",
       "    </tr>\n",
       "    <tr>\n",
       "      <th>2</th>\n",
       "      <td>2022-10-26</td>\n",
       "      <td>1669.2</td>\n",
       "      <td>183453.0</td>\n",
       "      <td>1657.7</td>\n",
       "      <td>1679.4</td>\n",
       "      <td>1653.8</td>\n",
       "    </tr>\n",
       "    <tr>\n",
       "      <th>3</th>\n",
       "      <td>2022-10-25</td>\n",
       "      <td>1658.0</td>\n",
       "      <td>178706.0</td>\n",
       "      <td>1654.5</td>\n",
       "      <td>1666.8</td>\n",
       "      <td>1641.2</td>\n",
       "    </tr>\n",
       "    <tr>\n",
       "      <th>4</th>\n",
       "      <td>2022-10-24</td>\n",
       "      <td>1654.1</td>\n",
       "      <td>167448.0</td>\n",
       "      <td>1662.9</td>\n",
       "      <td>1675.5</td>\n",
       "      <td>1648.0</td>\n",
       "    </tr>\n",
       "  </tbody>\n",
       "</table>\n",
       "</div>"
      ],
      "text/plain": [
       "        Date  Close/Last    Volume    Open    High     Low\n",
       "0 2022-10-28      1648.3  186519.0  1667.2  1670.9  1640.7\n",
       "1 2022-10-27      1668.8  180599.0  1668.8  1674.8  1658.5\n",
       "2 2022-10-26      1669.2  183453.0  1657.7  1679.4  1653.8\n",
       "3 2022-10-25      1658.0  178706.0  1654.5  1666.8  1641.2\n",
       "4 2022-10-24      1654.1  167448.0  1662.9  1675.5  1648.0"
      ]
     },
     "execution_count": 197,
     "metadata": {},
     "output_type": "execute_result"
    }
   ],
   "source": [
    "df['Date'] = pd.to_datetime(df['Date'])\n",
    "df.head()"
   ]
  },
  {
   "cell_type": "markdown",
   "id": "1a840a16",
   "metadata": {},
   "source": [
    "<h4>Lets see the time interval of the whole dataset ie min and max time</h4>"
   ]
  },
  {
   "cell_type": "code",
   "execution_count": 198,
   "id": "e0402e96",
   "metadata": {},
   "outputs": [
    {
     "name": "stdout",
     "output_type": "stream",
     "text": [
      "Latest time:  2022-10-28 00:00:00\n",
      "Earliest time:  2012-10-31 00:00:00\n"
     ]
    }
   ],
   "source": [
    "print('Latest time: ', df['Date'].max())\n",
    "print('Earliest time: ', df['Date'].min())"
   ]
  },
  {
   "cell_type": "markdown",
   "id": "2d17f690",
   "metadata": {},
   "source": [
    "***Lets quickly see the how the ETF performed in the last two months***"
   ]
  },
  {
   "cell_type": "code",
   "execution_count": 199,
   "id": "73f52e90",
   "metadata": {},
   "outputs": [
    {
     "data": {
      "text/html": [
       "<div>\n",
       "<style scoped>\n",
       "    .dataframe tbody tr th:only-of-type {\n",
       "        vertical-align: middle;\n",
       "    }\n",
       "\n",
       "    .dataframe tbody tr th {\n",
       "        vertical-align: top;\n",
       "    }\n",
       "\n",
       "    .dataframe thead th {\n",
       "        text-align: right;\n",
       "    }\n",
       "</style>\n",
       "<table border=\"1\" class=\"dataframe\">\n",
       "  <thead>\n",
       "    <tr style=\"text-align: right;\">\n",
       "      <th></th>\n",
       "      <th>Close/Last</th>\n",
       "      <th>Volume</th>\n",
       "      <th>Open</th>\n",
       "      <th>High</th>\n",
       "      <th>Low</th>\n",
       "    </tr>\n",
       "  </thead>\n",
       "  <tbody>\n",
       "    <tr>\n",
       "      <th>count</th>\n",
       "      <td>90</td>\n",
       "      <td>90</td>\n",
       "      <td>90</td>\n",
       "      <td>90</td>\n",
       "      <td>90</td>\n",
       "    </tr>\n",
       "    <tr>\n",
       "      <th>mean</th>\n",
       "      <td>1669</td>\n",
       "      <td>138715</td>\n",
       "      <td>1671</td>\n",
       "      <td>1679</td>\n",
       "      <td>1659</td>\n",
       "    </tr>\n",
       "    <tr>\n",
       "      <th>std</th>\n",
       "      <td>49</td>\n",
       "      <td>41561</td>\n",
       "      <td>48</td>\n",
       "      <td>47</td>\n",
       "      <td>49</td>\n",
       "    </tr>\n",
       "    <tr>\n",
       "      <th>min</th>\n",
       "      <td>1572</td>\n",
       "      <td>40829</td>\n",
       "      <td>1564</td>\n",
       "      <td>1582</td>\n",
       "      <td>1554</td>\n",
       "    </tr>\n",
       "    <tr>\n",
       "      <th>25%</th>\n",
       "      <td>1649</td>\n",
       "      <td>112521</td>\n",
       "      <td>1655</td>\n",
       "      <td>1663</td>\n",
       "      <td>1641</td>\n",
       "    </tr>\n",
       "    <tr>\n",
       "      <th>50%</th>\n",
       "      <td>1674</td>\n",
       "      <td>135184</td>\n",
       "      <td>1674</td>\n",
       "      <td>1684</td>\n",
       "      <td>1663</td>\n",
       "    </tr>\n",
       "    <tr>\n",
       "      <th>75%</th>\n",
       "      <td>1711</td>\n",
       "      <td>163687</td>\n",
       "      <td>1712</td>\n",
       "      <td>1718</td>\n",
       "      <td>1700</td>\n",
       "    </tr>\n",
       "    <tr>\n",
       "      <th>max</th>\n",
       "      <td>1751</td>\n",
       "      <td>241179</td>\n",
       "      <td>1751</td>\n",
       "      <td>1755</td>\n",
       "      <td>1746</td>\n",
       "    </tr>\n",
       "  </tbody>\n",
       "</table>\n",
       "</div>"
      ],
      "text/plain": [
       "       Close/Last  Volume  Open  High   Low\n",
       "count          90      90    90    90    90\n",
       "mean         1669  138715  1671  1679  1659\n",
       "std            49   41561    48    47    49\n",
       "min          1572   40829  1564  1582  1554\n",
       "25%          1649  112521  1655  1663  1641\n",
       "50%          1674  135184  1674  1684  1663\n",
       "75%          1711  163687  1712  1718  1700\n",
       "max          1751  241179  1751  1755  1746"
      ]
     },
     "execution_count": 199,
     "metadata": {},
     "output_type": "execute_result"
    }
   ],
   "source": [
    "df.iloc[-90:].describe().astype(int)   "
   ]
  },
  {
   "cell_type": "markdown",
   "id": "bde2d165",
   "metadata": {},
   "source": [
    "So in the last two months (90 trading days), <br>\n",
    "we can see the average price is 1669 which is more that what it is currently trading at 1648 <br>\n",
    "and so on ... <br>\n",
    "The maximum volume traded in a single day was 241179, which is a huge number."
   ]
  },
  {
   "cell_type": "markdown",
   "id": "4f3a2423",
   "metadata": {},
   "source": [
    "***So inorder to make ploting easier, Lets make the default index the 'Date' column*** <br>\n",
    "This makes the ploting easier"
   ]
  },
  {
   "cell_type": "code",
   "execution_count": 200,
   "id": "12e4842e",
   "metadata": {},
   "outputs": [],
   "source": [
    "df.index = df['Date']"
   ]
  },
  {
   "cell_type": "code",
   "execution_count": 201,
   "id": "173332f3",
   "metadata": {},
   "outputs": [
    {
     "data": {
      "text/plain": [
       "<AxesSubplot:xlabel='Date'>"
      ]
     },
     "execution_count": 201,
     "metadata": {},
     "output_type": "execute_result"
    },
    {
     "data": {
      "image/png": "[encoded data removed]",
      "text/plain": [
       "<Figure size 1080x576 with 1 Axes>"
      ]
     },
     "metadata": {},
     "output_type": "display_data"
    }
   ],
   "source": [
    "df['Close/Last'].plot(figsize = (15,8))   # Visualizing the closing Price (Target) over a period of time"
   ]
  },
  {
   "cell_type": "markdown",
   "id": "69443283",
   "metadata": {},
   "source": [
    "***Daily percentage price*** <br>\n",
    "This indicator shows the percentage increase/decrease of the daily price in respect to the previous day. <br>\n",
    "Lets make a column for this and calculate it.\n",
    "This could highly contribute to our models performance. <br>\n",
    "But before doing that lets sort it in increasing date!\n"
   ]
  },
  {
   "cell_type": "code",
   "execution_count": 215,
   "id": "9e71d49a",
   "metadata": {},
   "outputs": [],
   "source": [
    "df.sort_index(inplace=True)"
   ]
  },
  {
   "cell_type": "code",
   "execution_count": 216,
   "id": "28c863a1",
   "metadata": {},
   "outputs": [
    {
     "data": {
      "text/html": [
       "<div>\n",
       "<style scoped>\n",
       "    .dataframe tbody tr th:only-of-type {\n",
       "        vertical-align: middle;\n",
       "    }\n",
       "\n",
       "    .dataframe tbody tr th {\n",
       "        vertical-align: top;\n",
       "    }\n",
       "\n",
       "    .dataframe thead th {\n",
       "        text-align: right;\n",
       "    }\n",
       "</style>\n",
       "<table border=\"1\" class=\"dataframe\">\n",
       "  <thead>\n",
       "    <tr style=\"text-align: right;\">\n",
       "      <th></th>\n",
       "      <th>Date</th>\n",
       "      <th>Close/Last</th>\n",
       "      <th>Volume</th>\n",
       "      <th>Open</th>\n",
       "      <th>High</th>\n",
       "      <th>Low</th>\n",
       "      <th>Day%_Change</th>\n",
       "    </tr>\n",
       "    <tr>\n",
       "      <th>Date</th>\n",
       "      <th></th>\n",
       "      <th></th>\n",
       "      <th></th>\n",
       "      <th></th>\n",
       "      <th></th>\n",
       "      <th></th>\n",
       "      <th></th>\n",
       "    </tr>\n",
       "  </thead>\n",
       "  <tbody>\n",
       "    <tr>\n",
       "      <th>2012-10-31</th>\n",
       "      <td>2012-10-31</td>\n",
       "      <td>1719.1</td>\n",
       "      <td>110928.0</td>\n",
       "      <td>1710.3</td>\n",
       "      <td>1726.6</td>\n",
       "      <td>1709.8</td>\n",
       "      <td>NaN</td>\n",
       "    </tr>\n",
       "    <tr>\n",
       "      <th>2012-11-01</th>\n",
       "      <td>2012-11-01</td>\n",
       "      <td>1715.5</td>\n",
       "      <td>105904.0</td>\n",
       "      <td>1720.4</td>\n",
       "      <td>1727.5</td>\n",
       "      <td>1715.1</td>\n",
       "      <td>-0.209412</td>\n",
       "    </tr>\n",
       "    <tr>\n",
       "      <th>2012-11-02</th>\n",
       "      <td>2012-11-02</td>\n",
       "      <td>1675.2</td>\n",
       "      <td>205777.0</td>\n",
       "      <td>1715.6</td>\n",
       "      <td>1717.2</td>\n",
       "      <td>1674.8</td>\n",
       "      <td>-2.349169</td>\n",
       "    </tr>\n",
       "    <tr>\n",
       "      <th>2012-11-05</th>\n",
       "      <td>2012-11-05</td>\n",
       "      <td>1683.2</td>\n",
       "      <td>109647.0</td>\n",
       "      <td>1676.7</td>\n",
       "      <td>1686.2</td>\n",
       "      <td>1672.5</td>\n",
       "      <td>0.477555</td>\n",
       "    </tr>\n",
       "    <tr>\n",
       "      <th>2012-11-06</th>\n",
       "      <td>2012-11-06</td>\n",
       "      <td>1715.0</td>\n",
       "      <td>163585.0</td>\n",
       "      <td>1685.4</td>\n",
       "      <td>1720.9</td>\n",
       "      <td>1683.5</td>\n",
       "      <td>1.889259</td>\n",
       "    </tr>\n",
       "  </tbody>\n",
       "</table>\n",
       "</div>"
      ],
      "text/plain": [
       "                 Date  Close/Last    Volume    Open    High     Low  \\\n",
       "Date                                                                  \n",
       "2012-10-31 2012-10-31      1719.1  110928.0  1710.3  1726.6  1709.8   \n",
       "2012-11-01 2012-11-01      1715.5  105904.0  1720.4  1727.5  1715.1   \n",
       "2012-11-02 2012-11-02      1675.2  205777.0  1715.6  1717.2  1674.8   \n",
       "2012-11-05 2012-11-05      1683.2  109647.0  1676.7  1686.2  1672.5   \n",
       "2012-11-06 2012-11-06      1715.0  163585.0  1685.4  1720.9  1683.5   \n",
       "\n",
       "            Day%_Change  \n",
       "Date                     \n",
       "2012-10-31          NaN  \n",
       "2012-11-01    -0.209412  \n",
       "2012-11-02    -2.349169  \n",
       "2012-11-05     0.477555  \n",
       "2012-11-06     1.889259  "
      ]
     },
     "execution_count": 216,
     "metadata": {},
     "output_type": "execute_result"
    }
   ],
   "source": [
    "df['Day%_Change'] = df['Close/Last'].pct_change()*100\n",
    "df.head()"
   ]
  },
  {
   "cell_type": "markdown",
   "id": "a95bd969",
   "metadata": {},
   "source": [
    "***So*** , we can see the missing first value because we dont have information for the previous day. <br>\n",
    "Lets just drop it"
   ]
  },
  {
   "cell_type": "code",
   "execution_count": 220,
   "id": "4fc32629",
   "metadata": {},
   "outputs": [
    {
     "data": {
      "text/html": [
       "<div>\n",
       "<style scoped>\n",
       "    .dataframe tbody tr th:only-of-type {\n",
       "        vertical-align: middle;\n",
       "    }\n",
       "\n",
       "    .dataframe tbody tr th {\n",
       "        vertical-align: top;\n",
       "    }\n",
       "\n",
       "    .dataframe thead th {\n",
       "        text-align: right;\n",
       "    }\n",
       "</style>\n",
       "<table border=\"1\" class=\"dataframe\">\n",
       "  <thead>\n",
       "    <tr style=\"text-align: right;\">\n",
       "      <th></th>\n",
       "      <th>Date</th>\n",
       "      <th>Close/Last</th>\n",
       "      <th>Volume</th>\n",
       "      <th>Open</th>\n",
       "      <th>High</th>\n",
       "      <th>Low</th>\n",
       "      <th>Day%_Change</th>\n",
       "    </tr>\n",
       "    <tr>\n",
       "      <th>Date</th>\n",
       "      <th></th>\n",
       "      <th></th>\n",
       "      <th></th>\n",
       "      <th></th>\n",
       "      <th></th>\n",
       "      <th></th>\n",
       "      <th></th>\n",
       "    </tr>\n",
       "  </thead>\n",
       "  <tbody>\n",
       "    <tr>\n",
       "      <th>2012-11-01</th>\n",
       "      <td>2012-11-01</td>\n",
       "      <td>1715.5</td>\n",
       "      <td>105904.0</td>\n",
       "      <td>1720.4</td>\n",
       "      <td>1727.5</td>\n",
       "      <td>1715.1</td>\n",
       "      <td>-0.209412</td>\n",
       "    </tr>\n",
       "    <tr>\n",
       "      <th>2012-11-02</th>\n",
       "      <td>2012-11-02</td>\n",
       "      <td>1675.2</td>\n",
       "      <td>205777.0</td>\n",
       "      <td>1715.6</td>\n",
       "      <td>1717.2</td>\n",
       "      <td>1674.8</td>\n",
       "      <td>-2.349169</td>\n",
       "    </tr>\n",
       "  </tbody>\n",
       "</table>\n",
       "</div>"
      ],
      "text/plain": [
       "                 Date  Close/Last    Volume    Open    High     Low  \\\n",
       "Date                                                                  \n",
       "2012-11-01 2012-11-01      1715.5  105904.0  1720.4  1727.5  1715.1   \n",
       "2012-11-02 2012-11-02      1675.2  205777.0  1715.6  1717.2  1674.8   \n",
       "\n",
       "            Day%_Change  \n",
       "Date                     \n",
       "2012-11-01    -0.209412  \n",
       "2012-11-02    -2.349169  "
      ]
     },
     "execution_count": 220,
     "metadata": {},
     "output_type": "execute_result"
    }
   ],
   "source": [
    "df.dropna(axis = 0, inplace = True)\n",
    "df.head(2)"
   ]
  },
  {
   "cell_type": "code",
   "execution_count": 181,
   "id": "e4324c05",
   "metadata": {},
   "outputs": [
    {
     "data": {
      "text/plain": [
       "Date          datetime64[ns]\n",
       "Close/Last           float64\n",
       "Volume               float64\n",
       "Open                 float64\n",
       "High                 float64\n",
       "Low                  float64\n",
       "dtype: object"
      ]
     },
     "execution_count": 181,
     "metadata": {},
     "output_type": "execute_result"
    }
   ],
   "source": []
  },
  {
   "cell_type": "code",
   "execution_count": 110,
   "id": "2bcc91c5",
   "metadata": {},
   "outputs": [
    {
     "data": {
      "text/html": [
       "<div>\n",
       "<style scoped>\n",
       "    .dataframe tbody tr th:only-of-type {\n",
       "        vertical-align: middle;\n",
       "    }\n",
       "\n",
       "    .dataframe tbody tr th {\n",
       "        vertical-align: top;\n",
       "    }\n",
       "\n",
       "    .dataframe thead th {\n",
       "        text-align: right;\n",
       "    }\n",
       "</style>\n",
       "<table border=\"1\" class=\"dataframe\">\n",
       "  <thead>\n",
       "    <tr style=\"text-align: right;\">\n",
       "      <th></th>\n",
       "      <th>Close/Last</th>\n",
       "      <th>Volume</th>\n",
       "      <th>Open</th>\n",
       "      <th>High</th>\n",
       "      <th>Low</th>\n",
       "    </tr>\n",
       "  </thead>\n",
       "  <tbody>\n",
       "    <tr>\n",
       "      <th>Close/Last</th>\n",
       "      <td>1.000000</td>\n",
       "      <td>0.063957</td>\n",
       "      <td>0.998703</td>\n",
       "      <td>0.999334</td>\n",
       "      <td>0.999420</td>\n",
       "    </tr>\n",
       "    <tr>\n",
       "      <th>Volume</th>\n",
       "      <td>0.063957</td>\n",
       "      <td>1.000000</td>\n",
       "      <td>0.068945</td>\n",
       "      <td>0.072961</td>\n",
       "      <td>0.058990</td>\n",
       "    </tr>\n",
       "    <tr>\n",
       "      <th>Open</th>\n",
       "      <td>0.998703</td>\n",
       "      <td>0.068945</td>\n",
       "      <td>1.000000</td>\n",
       "      <td>0.999272</td>\n",
       "      <td>0.999142</td>\n",
       "    </tr>\n",
       "    <tr>\n",
       "      <th>High</th>\n",
       "      <td>0.999334</td>\n",
       "      <td>0.072961</td>\n",
       "      <td>0.999272</td>\n",
       "      <td>1.000000</td>\n",
       "      <td>0.998895</td>\n",
       "    </tr>\n",
       "    <tr>\n",
       "      <th>Low</th>\n",
       "      <td>0.999420</td>\n",
       "      <td>0.058990</td>\n",
       "      <td>0.999142</td>\n",
       "      <td>0.998895</td>\n",
       "      <td>1.000000</td>\n",
       "    </tr>\n",
       "  </tbody>\n",
       "</table>\n",
       "</div>"
      ],
      "text/plain": [
       "            Close/Last    Volume      Open      High       Low\n",
       "Close/Last    1.000000  0.063957  0.998703  0.999334  0.999420\n",
       "Volume        0.063957  1.000000  0.068945  0.072961  0.058990\n",
       "Open          0.998703  0.068945  1.000000  0.999272  0.999142\n",
       "High          0.999334  0.072961  0.999272  1.000000  0.998895\n",
       "Low           0.999420  0.058990  0.999142  0.998895  1.000000"
      ]
     },
     "execution_count": 110,
     "metadata": {},
     "output_type": "execute_result"
    }
   ],
   "source": [
    "he = df.drop(columns=['Date'], axis=\"1\")\n",
    "corr = he.corr()\n",
    "corr"
   ]
  },
  {
   "cell_type": "code",
   "execution_count": 111,
   "id": "4d47326f",
   "metadata": {},
   "outputs": [
    {
     "data": {
      "text/plain": [
       "<AxesSubplot:>"
      ]
     },
     "execution_count": 111,
     "metadata": {},
     "output_type": "execute_result"
    },
    {
     "data": {
      "image/png": "[encoded data removed]",
      "text/plain": [
       "<Figure size 432x288 with 2 Axes>"
      ]
     },
     "metadata": {
      "needs_background": "light"
     },
     "output_type": "display_data"
    }
   ],
   "source": [
    "sns.heatmap(corr, annot=True)"
   ]
  },
  {
   "cell_type": "code",
   "execution_count": 116,
   "id": "49aadded",
   "metadata": {},
   "outputs": [
    {
     "data": {
      "text/plain": [
       "<matplotlib.legend.Legend at 0x12e7c3ee0>"
      ]
     },
     "execution_count": 116,
     "metadata": {},
     "output_type": "execute_result"
    },
    {
     "data": {
      "image/png": "[encoded data removed]",
      "text/plain": [
       "<Figure size 1080x432 with 1 Axes>"
      ]
     },
     "metadata": {
      "needs_background": "light"
     },
     "output_type": "display_data"
    }
   ],
   "source": [
    "df.Low.plot(figsize=(15,6))\n",
    "df.High.plot()\n",
    "#df.Open.plot()\n",
    "plt.legend(['Low','High','Open'])"
   ]
  },
  {
   "cell_type": "markdown",
   "id": "87c3ace0",
   "metadata": {},
   "source": [
    "---"
   ]
  },
  {
   "cell_type": "markdown",
   "id": "e60434d9",
   "metadata": {},
   "source": [
    "# Encoding Date and Month features using OrdinalEncoder"
   ]
  },
  {
   "cell_type": "code",
   "execution_count": 47,
   "id": "0117b5a0",
   "metadata": {},
   "outputs": [],
   "source": [
    "from sklearn.preprocessing import OrdinalEncoder\n",
    "enc = OrdinalEncoder()\n",
    "df[\"Date\"] = enc.fit_transform(df[[\"Date\"]])"
   ]
  },
  {
   "cell_type": "code",
   "execution_count": 122,
   "id": "abb6f141",
   "metadata": {},
   "outputs": [
    {
     "data": {
      "text/html": [
       "<div>\n",
       "<style scoped>\n",
       "    .dataframe tbody tr th:only-of-type {\n",
       "        vertical-align: middle;\n",
       "    }\n",
       "\n",
       "    .dataframe tbody tr th {\n",
       "        vertical-align: top;\n",
       "    }\n",
       "\n",
       "    .dataframe thead th {\n",
       "        text-align: right;\n",
       "    }\n",
       "</style>\n",
       "<table border=\"1\" class=\"dataframe\">\n",
       "  <thead>\n",
       "    <tr style=\"text-align: right;\">\n",
       "      <th></th>\n",
       "      <th>Date</th>\n",
       "      <th>Close/Last</th>\n",
       "      <th>Volume</th>\n",
       "      <th>Open</th>\n",
       "      <th>High</th>\n",
       "      <th>Low</th>\n",
       "    </tr>\n",
       "  </thead>\n",
       "  <tbody>\n",
       "    <tr>\n",
       "      <th>0</th>\n",
       "      <td>10/28/2022</td>\n",
       "      <td>1648.3</td>\n",
       "      <td>186519.0</td>\n",
       "      <td>1667.2</td>\n",
       "      <td>1670.9</td>\n",
       "      <td>1640.7</td>\n",
       "    </tr>\n",
       "    <tr>\n",
       "      <th>1</th>\n",
       "      <td>10/27/2022</td>\n",
       "      <td>1668.8</td>\n",
       "      <td>180599.0</td>\n",
       "      <td>1668.8</td>\n",
       "      <td>1674.8</td>\n",
       "      <td>1658.5</td>\n",
       "    </tr>\n",
       "    <tr>\n",
       "      <th>2</th>\n",
       "      <td>10/26/2022</td>\n",
       "      <td>1669.2</td>\n",
       "      <td>183453.0</td>\n",
       "      <td>1657.7</td>\n",
       "      <td>1679.4</td>\n",
       "      <td>1653.8</td>\n",
       "    </tr>\n",
       "    <tr>\n",
       "      <th>3</th>\n",
       "      <td>10/25/2022</td>\n",
       "      <td>1658.0</td>\n",
       "      <td>178706.0</td>\n",
       "      <td>1654.5</td>\n",
       "      <td>1666.8</td>\n",
       "      <td>1641.2</td>\n",
       "    </tr>\n",
       "    <tr>\n",
       "      <th>4</th>\n",
       "      <td>10/24/2022</td>\n",
       "      <td>1654.1</td>\n",
       "      <td>167448.0</td>\n",
       "      <td>1662.9</td>\n",
       "      <td>1675.5</td>\n",
       "      <td>1648.0</td>\n",
       "    </tr>\n",
       "  </tbody>\n",
       "</table>\n",
       "</div>"
      ],
      "text/plain": [
       "         Date  Close/Last    Volume    Open    High     Low\n",
       "0  10/28/2022      1648.3  186519.0  1667.2  1670.9  1640.7\n",
       "1  10/27/2022      1668.8  180599.0  1668.8  1674.8  1658.5\n",
       "2  10/26/2022      1669.2  183453.0  1657.7  1679.4  1653.8\n",
       "3  10/25/2022      1658.0  178706.0  1654.5  1666.8  1641.2\n",
       "4  10/24/2022      1654.1  167448.0  1662.9  1675.5  1648.0"
      ]
     },
     "execution_count": 122,
     "metadata": {},
     "output_type": "execute_result"
    }
   ],
   "source": [
    "df.head()"
   ]
  },
  {
   "cell_type": "markdown",
   "id": "dbcc67f2",
   "metadata": {},
   "source": [
    "---"
   ]
  },
  {
   "cell_type": "markdown",
   "id": "d32e6b55",
   "metadata": {},
   "source": [
    "# StardardScaler"
   ]
  },
  {
   "cell_type": "code",
   "execution_count": 49,
   "id": "7433830f",
   "metadata": {},
   "outputs": [],
   "source": [
    "from sklearn.preprocessing import StandardScaler\n",
    "scaler = StandardScaler()"
   ]
  },
  {
   "cell_type": "code",
   "execution_count": 117,
   "id": "47b717be",
   "metadata": {},
   "outputs": [
    {
     "ename": "TypeError",
     "evalue": "ufunc 'isfinite' not supported for the input types, and the inputs could not be safely coerced to any supported types according to the casting rule ''safe''",
     "output_type": "error",
     "traceback": [
      "\u001b[0;31m---------------------------------------------------------------------------\u001b[0m",
      "\u001b[0;31mTypeError\u001b[0m                                 Traceback (most recent call last)",
      "Input \u001b[0;32mIn [117]\u001b[0m, in \u001b[0;36m<cell line: 1>\u001b[0;34m()\u001b[0m\n\u001b[0;32m----> 1\u001b[0m df \u001b[38;5;241m=\u001b[39m df[\u001b[43mnp\u001b[49m\u001b[38;5;241;43m.\u001b[39;49m\u001b[43misfinite\u001b[49m\u001b[43m(\u001b[49m\u001b[43mdf\u001b[49m\u001b[43m)\u001b[49m\u001b[38;5;241m.\u001b[39mall(\u001b[38;5;241m1\u001b[39m)]\n\u001b[1;32m      2\u001b[0m scaled_features \u001b[38;5;241m=\u001b[39m scaler\u001b[38;5;241m.\u001b[39mfit_transform(df\u001b[38;5;241m.\u001b[39mdrop([\u001b[38;5;124m\"\u001b[39m\u001b[38;5;124mClose/Last\u001b[39m\u001b[38;5;124m\"\u001b[39m], axis\u001b[38;5;241m=\u001b[39m\u001b[38;5;124m\"\u001b[39m\u001b[38;5;124mcolumns\u001b[39m\u001b[38;5;124m\"\u001b[39m))\n\u001b[1;32m      3\u001b[0m df_featured \u001b[38;5;241m=\u001b[39m pd\u001b[38;5;241m.\u001b[39mDataFrame(scaled_features, columns\u001b[38;5;241m=\u001b[39mdf\u001b[38;5;241m.\u001b[39mdrop([\u001b[38;5;124m\"\u001b[39m\u001b[38;5;124mClose/Last\u001b[39m\u001b[38;5;124m\"\u001b[39m], axis\u001b[38;5;241m=\u001b[39m\u001b[38;5;241m1\u001b[39m)\u001b[38;5;241m.\u001b[39mcolumns)\n",
      "File \u001b[0;32m/opt/anaconda3/lib/python3.9/site-packages/pandas/core/generic.py:2113\u001b[0m, in \u001b[0;36mNDFrame.__array_ufunc__\u001b[0;34m(self, ufunc, method, *inputs, **kwargs)\u001b[0m\n\u001b[1;32m   2109\u001b[0m \u001b[38;5;129m@final\u001b[39m\n\u001b[1;32m   2110\u001b[0m \u001b[38;5;28;01mdef\u001b[39;00m \u001b[38;5;21m__array_ufunc__\u001b[39m(\n\u001b[1;32m   2111\u001b[0m     \u001b[38;5;28mself\u001b[39m, ufunc: np\u001b[38;5;241m.\u001b[39mufunc, method: \u001b[38;5;28mstr\u001b[39m, \u001b[38;5;241m*\u001b[39minputs: Any, \u001b[38;5;241m*\u001b[39m\u001b[38;5;241m*\u001b[39mkwargs: Any\n\u001b[1;32m   2112\u001b[0m ):\n\u001b[0;32m-> 2113\u001b[0m     \u001b[38;5;28;01mreturn\u001b[39;00m \u001b[43marraylike\u001b[49m\u001b[38;5;241;43m.\u001b[39;49m\u001b[43marray_ufunc\u001b[49m\u001b[43m(\u001b[49m\u001b[38;5;28;43mself\u001b[39;49m\u001b[43m,\u001b[49m\u001b[43m \u001b[49m\u001b[43mufunc\u001b[49m\u001b[43m,\u001b[49m\u001b[43m \u001b[49m\u001b[43mmethod\u001b[49m\u001b[43m,\u001b[49m\u001b[43m \u001b[49m\u001b[38;5;241;43m*\u001b[39;49m\u001b[43minputs\u001b[49m\u001b[43m,\u001b[49m\u001b[43m \u001b[49m\u001b[38;5;241;43m*\u001b[39;49m\u001b[38;5;241;43m*\u001b[39;49m\u001b[43mkwargs\u001b[49m\u001b[43m)\u001b[49m\n",
      "File \u001b[0;32m/opt/anaconda3/lib/python3.9/site-packages/pandas/core/arraylike.py:410\u001b[0m, in \u001b[0;36marray_ufunc\u001b[0;34m(self, ufunc, method, *inputs, **kwargs)\u001b[0m\n\u001b[1;32m    405\u001b[0m \u001b[38;5;28;01mif\u001b[39;00m method \u001b[38;5;241m==\u001b[39m \u001b[38;5;124m\"\u001b[39m\u001b[38;5;124m__call__\u001b[39m\u001b[38;5;124m\"\u001b[39m \u001b[38;5;129;01mand\u001b[39;00m \u001b[38;5;129;01mnot\u001b[39;00m kwargs:\n\u001b[1;32m    406\u001b[0m     \u001b[38;5;66;03m# for np.<ufunc>(..) calls\u001b[39;00m\n\u001b[1;32m    407\u001b[0m     \u001b[38;5;66;03m# kwargs cannot necessarily be handled block-by-block, so only\u001b[39;00m\n\u001b[1;32m    408\u001b[0m     \u001b[38;5;66;03m# take this path if there are no kwargs\u001b[39;00m\n\u001b[1;32m    409\u001b[0m     mgr \u001b[38;5;241m=\u001b[39m inputs[\u001b[38;5;241m0\u001b[39m]\u001b[38;5;241m.\u001b[39m_mgr\n\u001b[0;32m--> 410\u001b[0m     result \u001b[38;5;241m=\u001b[39m \u001b[43mmgr\u001b[49m\u001b[38;5;241;43m.\u001b[39;49m\u001b[43mapply\u001b[49m\u001b[43m(\u001b[49m\u001b[38;5;28;43mgetattr\u001b[39;49m\u001b[43m(\u001b[49m\u001b[43mufunc\u001b[49m\u001b[43m,\u001b[49m\u001b[43m \u001b[49m\u001b[43mmethod\u001b[49m\u001b[43m)\u001b[49m\u001b[43m)\u001b[49m\n\u001b[1;32m    411\u001b[0m \u001b[38;5;28;01melse\u001b[39;00m:\n\u001b[1;32m    412\u001b[0m     \u001b[38;5;66;03m# otherwise specific ufunc methods (eg np.<ufunc>.accumulate(..))\u001b[39;00m\n\u001b[1;32m    413\u001b[0m     \u001b[38;5;66;03m# Those can have an axis keyword and thus can't be called block-by-block\u001b[39;00m\n\u001b[1;32m    414\u001b[0m     result \u001b[38;5;241m=\u001b[39m default_array_ufunc(inputs[\u001b[38;5;241m0\u001b[39m], ufunc, method, \u001b[38;5;241m*\u001b[39minputs, \u001b[38;5;241m*\u001b[39m\u001b[38;5;241m*\u001b[39mkwargs)\n",
      "File \u001b[0;32m/opt/anaconda3/lib/python3.9/site-packages/pandas/core/internals/managers.py:345\u001b[0m, in \u001b[0;36mBaseBlockManager.apply\u001b[0;34m(self, f, align_keys, ignore_failures, **kwargs)\u001b[0m\n\u001b[1;32m    343\u001b[0m \u001b[38;5;28;01mtry\u001b[39;00m:\n\u001b[1;32m    344\u001b[0m     \u001b[38;5;28;01mif\u001b[39;00m callable(f):\n\u001b[0;32m--> 345\u001b[0m         applied \u001b[38;5;241m=\u001b[39m \u001b[43mb\u001b[49m\u001b[38;5;241;43m.\u001b[39;49m\u001b[43mapply\u001b[49m\u001b[43m(\u001b[49m\u001b[43mf\u001b[49m\u001b[43m,\u001b[49m\u001b[43m \u001b[49m\u001b[38;5;241;43m*\u001b[39;49m\u001b[38;5;241;43m*\u001b[39;49m\u001b[43mkwargs\u001b[49m\u001b[43m)\u001b[49m\n\u001b[1;32m    346\u001b[0m     \u001b[38;5;28;01melse\u001b[39;00m:\n\u001b[1;32m    347\u001b[0m         applied \u001b[38;5;241m=\u001b[39m \u001b[38;5;28mgetattr\u001b[39m(b, f)(\u001b[38;5;241m*\u001b[39m\u001b[38;5;241m*\u001b[39mkwargs)\n",
      "File \u001b[0;32m/opt/anaconda3/lib/python3.9/site-packages/pandas/core/internals/blocks.py:351\u001b[0m, in \u001b[0;36mBlock.apply\u001b[0;34m(self, func, **kwargs)\u001b[0m\n\u001b[1;32m    345\u001b[0m \u001b[38;5;129m@final\u001b[39m\n\u001b[1;32m    346\u001b[0m \u001b[38;5;28;01mdef\u001b[39;00m \u001b[38;5;21mapply\u001b[39m(\u001b[38;5;28mself\u001b[39m, func, \u001b[38;5;241m*\u001b[39m\u001b[38;5;241m*\u001b[39mkwargs) \u001b[38;5;241m-\u001b[39m\u001b[38;5;241m>\u001b[39m \u001b[38;5;28mlist\u001b[39m[Block]:\n\u001b[1;32m    347\u001b[0m     \u001b[38;5;124;03m\"\"\"\u001b[39;00m\n\u001b[1;32m    348\u001b[0m \u001b[38;5;124;03m    apply the function to my values; return a block if we are not\u001b[39;00m\n\u001b[1;32m    349\u001b[0m \u001b[38;5;124;03m    one\u001b[39;00m\n\u001b[1;32m    350\u001b[0m \u001b[38;5;124;03m    \"\"\"\u001b[39;00m\n\u001b[0;32m--> 351\u001b[0m     result \u001b[38;5;241m=\u001b[39m \u001b[43mfunc\u001b[49m\u001b[43m(\u001b[49m\u001b[38;5;28;43mself\u001b[39;49m\u001b[38;5;241;43m.\u001b[39;49m\u001b[43mvalues\u001b[49m\u001b[43m,\u001b[49m\u001b[43m \u001b[49m\u001b[38;5;241;43m*\u001b[39;49m\u001b[38;5;241;43m*\u001b[39;49m\u001b[43mkwargs\u001b[49m\u001b[43m)\u001b[49m\n\u001b[1;32m    353\u001b[0m     \u001b[38;5;28;01mreturn\u001b[39;00m \u001b[38;5;28mself\u001b[39m\u001b[38;5;241m.\u001b[39m_split_op_result(result)\n",
      "\u001b[0;31mTypeError\u001b[0m: ufunc 'isfinite' not supported for the input types, and the inputs could not be safely coerced to any supported types according to the casting rule ''safe''"
     ]
    }
   ],
   "source": [
    "df = df[np.isfinite(df).all(1)]\n",
    "scaled_features = scaler.fit_transform(df.drop([\"Close/Last\"], axis=\"columns\"))\n",
    "df_featured = pd.DataFrame(scaled_features, columns=df.drop([\"Close/Last\"], axis=1).columns)\n",
    "df_featured.head()"
   ]
  },
  {
   "cell_type": "markdown",
   "id": "7d583df0",
   "metadata": {},
   "source": [
    "---"
   ]
  },
  {
   "cell_type": "markdown",
   "id": "18266339",
   "metadata": {},
   "source": [
    "# Splitting the data"
   ]
  },
  {
   "cell_type": "code",
   "execution_count": 118,
   "id": "cfad8389",
   "metadata": {},
   "outputs": [
    {
     "ename": "ValueError",
     "evalue": "Found input variables with inconsistent numbers of samples: [2508, 2547]",
     "output_type": "error",
     "traceback": [
      "\u001b[0;31m---------------------------------------------------------------------------\u001b[0m",
      "\u001b[0;31mValueError\u001b[0m                                Traceback (most recent call last)",
      "Input \u001b[0;32mIn [118]\u001b[0m, in \u001b[0;36m<cell line: 4>\u001b[0;34m()\u001b[0m\n\u001b[1;32m      2\u001b[0m x\u001b[38;5;241m=\u001b[39mdf_featured\n\u001b[1;32m      3\u001b[0m y\u001b[38;5;241m=\u001b[39mdf[\u001b[38;5;124m\"\u001b[39m\u001b[38;5;124mClose/Last\u001b[39m\u001b[38;5;124m\"\u001b[39m]\n\u001b[0;32m----> 4\u001b[0m x_train, x_test, y_train, y_test \u001b[38;5;241m=\u001b[39m \u001b[43mtrain_test_split\u001b[49m\u001b[43m(\u001b[49m\u001b[43mx\u001b[49m\u001b[43m,\u001b[49m\u001b[43m \u001b[49m\u001b[43my\u001b[49m\u001b[43m,\u001b[49m\u001b[43m \u001b[49m\u001b[43mtest_size\u001b[49m\u001b[38;5;241;43m=\u001b[39;49m\u001b[38;5;241;43m0.2\u001b[39;49m\u001b[43m,\u001b[49m\u001b[43mrandom_state\u001b[49m\u001b[38;5;241;43m=\u001b[39;49m\u001b[38;5;241;43m0\u001b[39;49m\u001b[43m)\u001b[49m\n",
      "File \u001b[0;32m/opt/anaconda3/lib/python3.9/site-packages/sklearn/model_selection/_split.py:2417\u001b[0m, in \u001b[0;36mtrain_test_split\u001b[0;34m(test_size, train_size, random_state, shuffle, stratify, *arrays)\u001b[0m\n\u001b[1;32m   2414\u001b[0m \u001b[38;5;28;01mif\u001b[39;00m n_arrays \u001b[38;5;241m==\u001b[39m \u001b[38;5;241m0\u001b[39m:\n\u001b[1;32m   2415\u001b[0m     \u001b[38;5;28;01mraise\u001b[39;00m \u001b[38;5;167;01mValueError\u001b[39;00m(\u001b[38;5;124m\"\u001b[39m\u001b[38;5;124mAt least one array required as input\u001b[39m\u001b[38;5;124m\"\u001b[39m)\n\u001b[0;32m-> 2417\u001b[0m arrays \u001b[38;5;241m=\u001b[39m \u001b[43mindexable\u001b[49m\u001b[43m(\u001b[49m\u001b[38;5;241;43m*\u001b[39;49m\u001b[43marrays\u001b[49m\u001b[43m)\u001b[49m\n\u001b[1;32m   2419\u001b[0m n_samples \u001b[38;5;241m=\u001b[39m _num_samples(arrays[\u001b[38;5;241m0\u001b[39m])\n\u001b[1;32m   2420\u001b[0m n_train, n_test \u001b[38;5;241m=\u001b[39m _validate_shuffle_split(\n\u001b[1;32m   2421\u001b[0m     n_samples, test_size, train_size, default_test_size\u001b[38;5;241m=\u001b[39m\u001b[38;5;241m0.25\u001b[39m\n\u001b[1;32m   2422\u001b[0m )\n",
      "File \u001b[0;32m/opt/anaconda3/lib/python3.9/site-packages/sklearn/utils/validation.py:378\u001b[0m, in \u001b[0;36mindexable\u001b[0;34m(*iterables)\u001b[0m\n\u001b[1;32m    359\u001b[0m \u001b[38;5;124;03m\"\"\"Make arrays indexable for cross-validation.\u001b[39;00m\n\u001b[1;32m    360\u001b[0m \n\u001b[1;32m    361\u001b[0m \u001b[38;5;124;03mChecks consistent length, passes through None, and ensures that everything\u001b[39;00m\n\u001b[0;32m   (...)\u001b[0m\n\u001b[1;32m    374\u001b[0m \u001b[38;5;124;03m    sparse matrix, or dataframe) or `None`.\u001b[39;00m\n\u001b[1;32m    375\u001b[0m \u001b[38;5;124;03m\"\"\"\u001b[39;00m\n\u001b[1;32m    377\u001b[0m result \u001b[38;5;241m=\u001b[39m [_make_indexable(X) \u001b[38;5;28;01mfor\u001b[39;00m X \u001b[38;5;129;01min\u001b[39;00m iterables]\n\u001b[0;32m--> 378\u001b[0m \u001b[43mcheck_consistent_length\u001b[49m\u001b[43m(\u001b[49m\u001b[38;5;241;43m*\u001b[39;49m\u001b[43mresult\u001b[49m\u001b[43m)\u001b[49m\n\u001b[1;32m    379\u001b[0m \u001b[38;5;28;01mreturn\u001b[39;00m result\n",
      "File \u001b[0;32m/opt/anaconda3/lib/python3.9/site-packages/sklearn/utils/validation.py:332\u001b[0m, in \u001b[0;36mcheck_consistent_length\u001b[0;34m(*arrays)\u001b[0m\n\u001b[1;32m    330\u001b[0m uniques \u001b[38;5;241m=\u001b[39m np\u001b[38;5;241m.\u001b[39munique(lengths)\n\u001b[1;32m    331\u001b[0m \u001b[38;5;28;01mif\u001b[39;00m \u001b[38;5;28mlen\u001b[39m(uniques) \u001b[38;5;241m>\u001b[39m \u001b[38;5;241m1\u001b[39m:\n\u001b[0;32m--> 332\u001b[0m     \u001b[38;5;28;01mraise\u001b[39;00m \u001b[38;5;167;01mValueError\u001b[39;00m(\n\u001b[1;32m    333\u001b[0m         \u001b[38;5;124m\"\u001b[39m\u001b[38;5;124mFound input variables with inconsistent numbers of samples: \u001b[39m\u001b[38;5;132;01m%r\u001b[39;00m\u001b[38;5;124m\"\u001b[39m\n\u001b[1;32m    334\u001b[0m         \u001b[38;5;241m%\u001b[39m [\u001b[38;5;28mint\u001b[39m(l) \u001b[38;5;28;01mfor\u001b[39;00m l \u001b[38;5;129;01min\u001b[39;00m lengths]\n\u001b[1;32m    335\u001b[0m     )\n",
      "\u001b[0;31mValueError\u001b[0m: Found input variables with inconsistent numbers of samples: [2508, 2547]"
     ]
    }
   ],
   "source": [
    "from sklearn.model_selection import train_test_split\n",
    "x=df_featured\n",
    "y=df[\"Close/Last\"]\n",
    "x_train, x_test, y_train, y_test = train_test_split(x, y, test_size=0.2,random_state=0)"
   ]
  },
  {
   "cell_type": "markdown",
   "id": "5b27fbff",
   "metadata": {},
   "source": [
    "---"
   ]
  },
  {
   "cell_type": "markdown",
   "id": "f5fc56fb",
   "metadata": {},
   "source": [
    "# Linear Regression"
   ]
  },
  {
   "cell_type": "code",
   "execution_count": 97,
   "id": "478f25f9",
   "metadata": {},
   "outputs": [
    {
     "data": {
      "text/html": [
       "<div>\n",
       "<style scoped>\n",
       "    .dataframe tbody tr th:only-of-type {\n",
       "        vertical-align: middle;\n",
       "    }\n",
       "\n",
       "    .dataframe tbody tr th {\n",
       "        vertical-align: top;\n",
       "    }\n",
       "\n",
       "    .dataframe thead th {\n",
       "        text-align: right;\n",
       "    }\n",
       "</style>\n",
       "<table border=\"1\" class=\"dataframe\">\n",
       "  <thead>\n",
       "    <tr style=\"text-align: right;\">\n",
       "      <th></th>\n",
       "      <th>Date</th>\n",
       "      <th>Volume</th>\n",
       "      <th>Open</th>\n",
       "      <th>High</th>\n",
       "      <th>Low</th>\n",
       "    </tr>\n",
       "  </thead>\n",
       "  <tbody>\n",
       "    <tr>\n",
       "      <th>2246</th>\n",
       "      <td>1.335826</td>\n",
       "      <td>-0.872961</td>\n",
       "      <td>-0.639175</td>\n",
       "      <td>-0.659397</td>\n",
       "      <td>-0.633836</td>\n",
       "    </tr>\n",
       "    <tr>\n",
       "      <th>1225</th>\n",
       "      <td>1.517167</td>\n",
       "      <td>0.904227</td>\n",
       "      <td>-0.738482</td>\n",
       "      <td>-0.751491</td>\n",
       "      <td>-0.726676</td>\n",
       "    </tr>\n",
       "    <tr>\n",
       "      <th>1742</th>\n",
       "      <td>1.338552</td>\n",
       "      <td>-0.126593</td>\n",
       "      <td>-1.400527</td>\n",
       "      <td>-1.400786</td>\n",
       "      <td>-1.419439</td>\n",
       "    </tr>\n",
       "    <tr>\n",
       "      <th>1559</th>\n",
       "      <td>0.385486</td>\n",
       "      <td>0.470179</td>\n",
       "      <td>-0.367737</td>\n",
       "      <td>-0.333202</td>\n",
       "      <td>-0.357282</td>\n",
       "    </tr>\n",
       "    <tr>\n",
       "      <th>117</th>\n",
       "      <td>-0.514406</td>\n",
       "      <td>0.127625</td>\n",
       "      <td>1.731335</td>\n",
       "      <td>1.690915</td>\n",
       "      <td>1.659637</td>\n",
       "    </tr>\n",
       "  </tbody>\n",
       "</table>\n",
       "</div>"
      ],
      "text/plain": [
       "          Date    Volume      Open      High       Low\n",
       "2246  1.335826 -0.872961 -0.639175 -0.659397 -0.633836\n",
       "1225  1.517167  0.904227 -0.738482 -0.751491 -0.726676\n",
       "1742  1.338552 -0.126593 -1.400527 -1.400786 -1.419439\n",
       "1559  0.385486  0.470179 -0.367737 -0.333202 -0.357282\n",
       "117  -0.514406  0.127625  1.731335  1.690915  1.659637"
      ]
     },
     "execution_count": 97,
     "metadata": {},
     "output_type": "execute_result"
    }
   ],
   "source": [
    "from sklearn.linear_model import LinearRegression\n",
    "lr = LinearRegression()\n",
    "lr.fit(x_train, y_train)\n",
    "y_pred = lr.predict(x_test)\n",
    "x_train.head()"
   ]
  },
  {
   "cell_type": "code",
   "execution_count": 120,
   "id": "891685d4",
   "metadata": {},
   "outputs": [
    {
     "data": {
      "text/plain": [
       "0.9995080484833534"
      ]
     },
     "execution_count": 120,
     "metadata": {},
     "output_type": "execute_result"
    }
   ],
   "source": [
    "from sklearn.metrics import mean_absolute_error, r2_score\n",
    "r2_score(y_test, y_pred)"
   ]
  },
  {
   "cell_type": "markdown",
   "id": "2ec84fc7",
   "metadata": {},
   "source": [
    "---"
   ]
  },
  {
   "cell_type": "markdown",
   "id": "b434aa2e",
   "metadata": {},
   "source": [
    "# RandomForestRegressor"
   ]
  },
  {
   "cell_type": "code",
   "execution_count": 54,
   "id": "d551f3d7",
   "metadata": {},
   "outputs": [
    {
     "data": {
      "text/plain": [
       "0.9990615408152974"
      ]
     },
     "execution_count": 54,
     "metadata": {},
     "output_type": "execute_result"
    }
   ],
   "source": [
    "from sklearn.ensemble import RandomForestRegressor \n",
    "rf = RandomForestRegressor(random_state=42) \n",
    "rf.fit(x_train, y_train)\n",
    "y_pred2 = rf.predict(x_test)\n",
    "r2_score( y_test, y_pred2)"
   ]
  },
  {
   "cell_type": "code",
   "execution_count": null,
   "id": "6cd7fadc",
   "metadata": {},
   "outputs": [],
   "source": []
  },
  {
   "cell_type": "code",
   "execution_count": null,
   "id": "04a43ce6",
   "metadata": {},
   "outputs": [],
   "source": []
  },
  {
   "cell_type": "code",
   "execution_count": null,
   "id": "45e8fe56",
   "metadata": {},
   "outputs": [],
   "source": []
  }
 ],
 "metadata": {
  "kernelspec": {
   "display_name": "Python 3 (ipykernel)",
   "language": "python",
   "name": "python3"
  },
  "language_info": {
   "codemirror_mode": {
    "name": "ipython",
    "version": 3
   },
   "file_extension": ".py",
   "mimetype": "text/x-python",
   "name": "python",
   "nbconvert_exporter": "python",
   "pygments_lexer": "ipython3",
   "version": "3.9.12"
  }
 },
 "nbformat": 4,
 "nbformat_minor": 5
}
